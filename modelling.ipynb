{
 "cells": [
  {
   "cell_type": "code",
   "execution_count": 1,
   "id": "6df81e88-afa4-4651-876c-fbea9d21f32d",
   "metadata": {},
   "outputs": [],
   "source": [
    "import pandas as pd\n",
    "import numpy as np"
   ]
  },
  {
   "cell_type": "code",
   "execution_count": 2,
   "id": "565df0ad-d956-44ac-9c4c-626aadf88d0c",
   "metadata": {},
   "outputs": [],
   "source": [
    "from sklearn.preprocessing import LabelEncoder"
   ]
  },
  {
   "cell_type": "code",
   "execution_count": 3,
   "id": "42b1b634-a085-419f-b531-0e4fa4ae0957",
   "metadata": {
    "tags": []
   },
   "outputs": [
    {
     "data": {
      "text/html": [
       "<div>\n",
       "<style scoped>\n",
       "    .dataframe tbody tr th:only-of-type {\n",
       "        vertical-align: middle;\n",
       "    }\n",
       "\n",
       "    .dataframe tbody tr th {\n",
       "        vertical-align: top;\n",
       "    }\n",
       "\n",
       "    .dataframe thead th {\n",
       "        text-align: right;\n",
       "    }\n",
       "</style>\n",
       "<table border=\"1\" class=\"dataframe\">\n",
       "  <thead>\n",
       "    <tr style=\"text-align: right;\">\n",
       "      <th></th>\n",
       "      <th>Unnamed: 0</th>\n",
       "      <th>Measurement</th>\n",
       "      <th>PositiveTolerance</th>\n",
       "      <th>NegativeTolerance</th>\n",
       "      <th>Deviation</th>\n",
       "      <th>OutTolerance</th>\n",
       "      <th>Shift_A</th>\n",
       "      <th>Shift_B</th>\n",
       "      <th>Shift_C</th>\n",
       "      <th>TeamNo_1001</th>\n",
       "      <th>...</th>\n",
       "      <th>DimInfo_DimInfo 7</th>\n",
       "      <th>DimInfo_DimInfo 8</th>\n",
       "      <th>DimInfo_DimInfo 9</th>\n",
       "      <th>DimInfo_DimInfo 120</th>\n",
       "      <th>DimInfo_DimInfo 90</th>\n",
       "      <th>DimInfo_DimInfo 90.5</th>\n",
       "      <th>DimInfo_DimInfo 114</th>\n",
       "      <th>DimInfo_DimInfo 59</th>\n",
       "      <th>DimInfo_OTHERS</th>\n",
       "      <th>RowConfirmation</th>\n",
       "    </tr>\n",
       "  </thead>\n",
       "  <tbody>\n",
       "    <tr>\n",
       "      <th>0</th>\n",
       "      <td>0</td>\n",
       "      <td>0.357281</td>\n",
       "      <td>0.019849</td>\n",
       "      <td>1.0</td>\n",
       "      <td>0.397391</td>\n",
       "      <td>0.000099</td>\n",
       "      <td>0</td>\n",
       "      <td>1</td>\n",
       "      <td>0</td>\n",
       "      <td>0</td>\n",
       "      <td>...</td>\n",
       "      <td>0</td>\n",
       "      <td>0</td>\n",
       "      <td>0</td>\n",
       "      <td>0</td>\n",
       "      <td>0</td>\n",
       "      <td>0</td>\n",
       "      <td>0</td>\n",
       "      <td>0</td>\n",
       "      <td>0</td>\n",
       "      <td>1</td>\n",
       "    </tr>\n",
       "    <tr>\n",
       "      <th>1</th>\n",
       "      <td>1</td>\n",
       "      <td>0.357282</td>\n",
       "      <td>0.089322</td>\n",
       "      <td>1.0</td>\n",
       "      <td>0.436192</td>\n",
       "      <td>0.075320</td>\n",
       "      <td>0</td>\n",
       "      <td>1</td>\n",
       "      <td>0</td>\n",
       "      <td>0</td>\n",
       "      <td>...</td>\n",
       "      <td>0</td>\n",
       "      <td>0</td>\n",
       "      <td>0</td>\n",
       "      <td>0</td>\n",
       "      <td>0</td>\n",
       "      <td>0</td>\n",
       "      <td>0</td>\n",
       "      <td>0</td>\n",
       "      <td>0</td>\n",
       "      <td>1</td>\n",
       "    </tr>\n",
       "    <tr>\n",
       "      <th>2</th>\n",
       "      <td>2</td>\n",
       "      <td>0.357281</td>\n",
       "      <td>0.019849</td>\n",
       "      <td>1.0</td>\n",
       "      <td>0.397850</td>\n",
       "      <td>0.004268</td>\n",
       "      <td>0</td>\n",
       "      <td>1</td>\n",
       "      <td>0</td>\n",
       "      <td>0</td>\n",
       "      <td>...</td>\n",
       "      <td>0</td>\n",
       "      <td>0</td>\n",
       "      <td>0</td>\n",
       "      <td>0</td>\n",
       "      <td>0</td>\n",
       "      <td>0</td>\n",
       "      <td>0</td>\n",
       "      <td>0</td>\n",
       "      <td>0</td>\n",
       "      <td>1</td>\n",
       "    </tr>\n",
       "    <tr>\n",
       "      <th>3</th>\n",
       "      <td>3</td>\n",
       "      <td>0.357282</td>\n",
       "      <td>0.089322</td>\n",
       "      <td>1.0</td>\n",
       "      <td>0.437322</td>\n",
       "      <td>0.085591</td>\n",
       "      <td>0</td>\n",
       "      <td>1</td>\n",
       "      <td>0</td>\n",
       "      <td>0</td>\n",
       "      <td>...</td>\n",
       "      <td>0</td>\n",
       "      <td>0</td>\n",
       "      <td>0</td>\n",
       "      <td>0</td>\n",
       "      <td>0</td>\n",
       "      <td>0</td>\n",
       "      <td>0</td>\n",
       "      <td>0</td>\n",
       "      <td>0</td>\n",
       "      <td>0</td>\n",
       "    </tr>\n",
       "    <tr>\n",
       "      <th>4</th>\n",
       "      <td>4</td>\n",
       "      <td>0.357282</td>\n",
       "      <td>0.089322</td>\n",
       "      <td>1.0</td>\n",
       "      <td>0.436192</td>\n",
       "      <td>0.075320</td>\n",
       "      <td>0</td>\n",
       "      <td>1</td>\n",
       "      <td>0</td>\n",
       "      <td>0</td>\n",
       "      <td>...</td>\n",
       "      <td>0</td>\n",
       "      <td>0</td>\n",
       "      <td>0</td>\n",
       "      <td>0</td>\n",
       "      <td>0</td>\n",
       "      <td>0</td>\n",
       "      <td>0</td>\n",
       "      <td>0</td>\n",
       "      <td>0</td>\n",
       "      <td>1</td>\n",
       "    </tr>\n",
       "  </tbody>\n",
       "</table>\n",
       "<p>5 rows × 175 columns</p>\n",
       "</div>"
      ],
      "text/plain": [
       "   Unnamed: 0  Measurement  PositiveTolerance  NegativeTolerance  Deviation  \\\n",
       "0           0     0.357281           0.019849                1.0   0.397391   \n",
       "1           1     0.357282           0.089322                1.0   0.436192   \n",
       "2           2     0.357281           0.019849                1.0   0.397850   \n",
       "3           3     0.357282           0.089322                1.0   0.437322   \n",
       "4           4     0.357282           0.089322                1.0   0.436192   \n",
       "\n",
       "   OutTolerance  Shift_A  Shift_B  Shift_C  TeamNo_1001  ...  \\\n",
       "0      0.000099        0        1        0            0  ...   \n",
       "1      0.075320        0        1        0            0  ...   \n",
       "2      0.004268        0        1        0            0  ...   \n",
       "3      0.085591        0        1        0            0  ...   \n",
       "4      0.075320        0        1        0            0  ...   \n",
       "\n",
       "   DimInfo_DimInfo 7  DimInfo_DimInfo 8  DimInfo_DimInfo 9  \\\n",
       "0                  0                  0                  0   \n",
       "1                  0                  0                  0   \n",
       "2                  0                  0                  0   \n",
       "3                  0                  0                  0   \n",
       "4                  0                  0                  0   \n",
       "\n",
       "   DimInfo_DimInfo 120  DimInfo_DimInfo 90  DimInfo_DimInfo 90.5  \\\n",
       "0                    0                   0                     0   \n",
       "1                    0                   0                     0   \n",
       "2                    0                   0                     0   \n",
       "3                    0                   0                     0   \n",
       "4                    0                   0                     0   \n",
       "\n",
       "   DimInfo_DimInfo 114  DimInfo_DimInfo 59  DimInfo_OTHERS  RowConfirmation  \n",
       "0                    0                   0               0                1  \n",
       "1                    0                   0               0                1  \n",
       "2                    0                   0               0                1  \n",
       "3                    0                   0               0                0  \n",
       "4                    0                   0               0                1  \n",
       "\n",
       "[5 rows x 175 columns]"
      ]
     },
     "execution_count": 3,
     "metadata": {},
     "output_type": "execute_result"
    }
   ],
   "source": [
    "df = pd.read_csv(\"Modelling.csv\")\n",
    "df.head()"
   ]
  },
  {
   "cell_type": "code",
   "execution_count": 4,
   "id": "440ba625-0b2e-4169-9022-d4afe07748eb",
   "metadata": {},
   "outputs": [
    {
     "data": {
      "text/html": [
       "<div>\n",
       "<style scoped>\n",
       "    .dataframe tbody tr th:only-of-type {\n",
       "        vertical-align: middle;\n",
       "    }\n",
       "\n",
       "    .dataframe tbody tr th {\n",
       "        vertical-align: top;\n",
       "    }\n",
       "\n",
       "    .dataframe thead th {\n",
       "        text-align: right;\n",
       "    }\n",
       "</style>\n",
       "<table border=\"1\" class=\"dataframe\">\n",
       "  <thead>\n",
       "    <tr style=\"text-align: right;\">\n",
       "      <th></th>\n",
       "      <th>Measurement</th>\n",
       "      <th>PositiveTolerance</th>\n",
       "      <th>NegativeTolerance</th>\n",
       "      <th>Deviation</th>\n",
       "      <th>OutTolerance</th>\n",
       "      <th>Shift_A</th>\n",
       "      <th>Shift_B</th>\n",
       "      <th>Shift_C</th>\n",
       "      <th>TeamNo_1001</th>\n",
       "      <th>TeamNo_1002</th>\n",
       "      <th>...</th>\n",
       "      <th>DimInfo_DimInfo 7</th>\n",
       "      <th>DimInfo_DimInfo 8</th>\n",
       "      <th>DimInfo_DimInfo 9</th>\n",
       "      <th>DimInfo_DimInfo 120</th>\n",
       "      <th>DimInfo_DimInfo 90</th>\n",
       "      <th>DimInfo_DimInfo 90.5</th>\n",
       "      <th>DimInfo_DimInfo 114</th>\n",
       "      <th>DimInfo_DimInfo 59</th>\n",
       "      <th>DimInfo_OTHERS</th>\n",
       "      <th>RowConfirmation</th>\n",
       "    </tr>\n",
       "  </thead>\n",
       "  <tbody>\n",
       "    <tr>\n",
       "      <th>0</th>\n",
       "      <td>0.357281</td>\n",
       "      <td>0.019849</td>\n",
       "      <td>1.0</td>\n",
       "      <td>0.397391</td>\n",
       "      <td>0.000099</td>\n",
       "      <td>0</td>\n",
       "      <td>1</td>\n",
       "      <td>0</td>\n",
       "      <td>0</td>\n",
       "      <td>0</td>\n",
       "      <td>...</td>\n",
       "      <td>0</td>\n",
       "      <td>0</td>\n",
       "      <td>0</td>\n",
       "      <td>0</td>\n",
       "      <td>0</td>\n",
       "      <td>0</td>\n",
       "      <td>0</td>\n",
       "      <td>0</td>\n",
       "      <td>0</td>\n",
       "      <td>1</td>\n",
       "    </tr>\n",
       "    <tr>\n",
       "      <th>1</th>\n",
       "      <td>0.357282</td>\n",
       "      <td>0.089322</td>\n",
       "      <td>1.0</td>\n",
       "      <td>0.436192</td>\n",
       "      <td>0.075320</td>\n",
       "      <td>0</td>\n",
       "      <td>1</td>\n",
       "      <td>0</td>\n",
       "      <td>0</td>\n",
       "      <td>0</td>\n",
       "      <td>...</td>\n",
       "      <td>0</td>\n",
       "      <td>0</td>\n",
       "      <td>0</td>\n",
       "      <td>0</td>\n",
       "      <td>0</td>\n",
       "      <td>0</td>\n",
       "      <td>0</td>\n",
       "      <td>0</td>\n",
       "      <td>0</td>\n",
       "      <td>1</td>\n",
       "    </tr>\n",
       "    <tr>\n",
       "      <th>2</th>\n",
       "      <td>0.357281</td>\n",
       "      <td>0.019849</td>\n",
       "      <td>1.0</td>\n",
       "      <td>0.397850</td>\n",
       "      <td>0.004268</td>\n",
       "      <td>0</td>\n",
       "      <td>1</td>\n",
       "      <td>0</td>\n",
       "      <td>0</td>\n",
       "      <td>0</td>\n",
       "      <td>...</td>\n",
       "      <td>0</td>\n",
       "      <td>0</td>\n",
       "      <td>0</td>\n",
       "      <td>0</td>\n",
       "      <td>0</td>\n",
       "      <td>0</td>\n",
       "      <td>0</td>\n",
       "      <td>0</td>\n",
       "      <td>0</td>\n",
       "      <td>1</td>\n",
       "    </tr>\n",
       "    <tr>\n",
       "      <th>3</th>\n",
       "      <td>0.357282</td>\n",
       "      <td>0.089322</td>\n",
       "      <td>1.0</td>\n",
       "      <td>0.437322</td>\n",
       "      <td>0.085591</td>\n",
       "      <td>0</td>\n",
       "      <td>1</td>\n",
       "      <td>0</td>\n",
       "      <td>0</td>\n",
       "      <td>0</td>\n",
       "      <td>...</td>\n",
       "      <td>0</td>\n",
       "      <td>0</td>\n",
       "      <td>0</td>\n",
       "      <td>0</td>\n",
       "      <td>0</td>\n",
       "      <td>0</td>\n",
       "      <td>0</td>\n",
       "      <td>0</td>\n",
       "      <td>0</td>\n",
       "      <td>0</td>\n",
       "    </tr>\n",
       "    <tr>\n",
       "      <th>4</th>\n",
       "      <td>0.357282</td>\n",
       "      <td>0.089322</td>\n",
       "      <td>1.0</td>\n",
       "      <td>0.436192</td>\n",
       "      <td>0.075320</td>\n",
       "      <td>0</td>\n",
       "      <td>1</td>\n",
       "      <td>0</td>\n",
       "      <td>0</td>\n",
       "      <td>0</td>\n",
       "      <td>...</td>\n",
       "      <td>0</td>\n",
       "      <td>0</td>\n",
       "      <td>0</td>\n",
       "      <td>0</td>\n",
       "      <td>0</td>\n",
       "      <td>0</td>\n",
       "      <td>0</td>\n",
       "      <td>0</td>\n",
       "      <td>0</td>\n",
       "      <td>1</td>\n",
       "    </tr>\n",
       "  </tbody>\n",
       "</table>\n",
       "<p>5 rows × 174 columns</p>\n",
       "</div>"
      ],
      "text/plain": [
       "   Measurement  PositiveTolerance  NegativeTolerance  Deviation  OutTolerance  \\\n",
       "0     0.357281           0.019849                1.0   0.397391      0.000099   \n",
       "1     0.357282           0.089322                1.0   0.436192      0.075320   \n",
       "2     0.357281           0.019849                1.0   0.397850      0.004268   \n",
       "3     0.357282           0.089322                1.0   0.437322      0.085591   \n",
       "4     0.357282           0.089322                1.0   0.436192      0.075320   \n",
       "\n",
       "   Shift_A  Shift_B  Shift_C  TeamNo_1001  TeamNo_1002  ...  \\\n",
       "0        0        1        0            0            0  ...   \n",
       "1        0        1        0            0            0  ...   \n",
       "2        0        1        0            0            0  ...   \n",
       "3        0        1        0            0            0  ...   \n",
       "4        0        1        0            0            0  ...   \n",
       "\n",
       "   DimInfo_DimInfo 7  DimInfo_DimInfo 8  DimInfo_DimInfo 9  \\\n",
       "0                  0                  0                  0   \n",
       "1                  0                  0                  0   \n",
       "2                  0                  0                  0   \n",
       "3                  0                  0                  0   \n",
       "4                  0                  0                  0   \n",
       "\n",
       "   DimInfo_DimInfo 120  DimInfo_DimInfo 90  DimInfo_DimInfo 90.5  \\\n",
       "0                    0                   0                     0   \n",
       "1                    0                   0                     0   \n",
       "2                    0                   0                     0   \n",
       "3                    0                   0                     0   \n",
       "4                    0                   0                     0   \n",
       "\n",
       "   DimInfo_DimInfo 114  DimInfo_DimInfo 59  DimInfo_OTHERS  RowConfirmation  \n",
       "0                    0                   0               0                1  \n",
       "1                    0                   0               0                1  \n",
       "2                    0                   0               0                1  \n",
       "3                    0                   0               0                0  \n",
       "4                    0                   0               0                1  \n",
       "\n",
       "[5 rows x 174 columns]"
      ]
     },
     "execution_count": 4,
     "metadata": {},
     "output_type": "execute_result"
    }
   ],
   "source": [
    "df= df.drop(columns=['Unnamed: 0'])\n",
    "df.head()"
   ]
  },
  {
   "cell_type": "markdown",
   "id": "17eccabc-20ad-4964-95b6-7c59f4812338",
   "metadata": {
    "tags": []
   },
   "source": [
    "## OVER SAMPLING"
   ]
  },
  {
   "cell_type": "code",
   "execution_count": 5,
   "id": "4ad68077-7351-4651-a172-a46d1dae0340",
   "metadata": {
    "tags": []
   },
   "outputs": [],
   "source": [
    "#!pip install imbalanced-learn"
   ]
  },
  {
   "cell_type": "code",
   "execution_count": 6,
   "id": "e1bb0828-283b-42c5-be2c-fceddec26ca2",
   "metadata": {
    "tags": []
   },
   "outputs": [],
   "source": [
    "import imblearn"
   ]
  },
  {
   "cell_type": "code",
   "execution_count": 7,
   "id": "bbd17466-7414-4831-8786-f02b433b11dd",
   "metadata": {},
   "outputs": [],
   "source": [
    "from imblearn.over_sampling import SMOTE"
   ]
  },
  {
   "cell_type": "code",
   "execution_count": 8,
   "id": "e10425f3-5a8c-4832-8ef0-d3a23c48e0d8",
   "metadata": {
    "tags": []
   },
   "outputs": [
    {
     "name": "stdout",
     "output_type": "stream",
     "text": [
      "<class 'pandas.core.frame.DataFrame'>\n",
      "RangeIndex: 7123 entries, 0 to 7122\n",
      "Columns: 173 entries, Measurement to DimInfo_OTHERS\n",
      "dtypes: float64(5), int64(168)\n",
      "memory usage: 9.4 MB\n"
     ]
    }
   ],
   "source": [
    "X = df.drop(\"RowConfirmation\",axis=1)\n",
    "X.info()"
   ]
  },
  {
   "cell_type": "code",
   "execution_count": 9,
   "id": "608d4b22-2651-4ea3-9611-f4682bb6daf4",
   "metadata": {},
   "outputs": [
    {
     "data": {
      "text/plain": [
       "0    1\n",
       "1    1\n",
       "2    1\n",
       "3    0\n",
       "4    1\n",
       "Name: RowConfirmation, dtype: int64"
      ]
     },
     "execution_count": 9,
     "metadata": {},
     "output_type": "execute_result"
    }
   ],
   "source": [
    "y=df[\"RowConfirmation\"]\n",
    "y.head()"
   ]
  },
  {
   "cell_type": "code",
   "execution_count": 10,
   "id": "8e2d2cb0-ed1b-43f7-8ca1-ed086bdf5649",
   "metadata": {},
   "outputs": [],
   "source": [
    "smote = SMOTE()"
   ]
  },
  {
   "cell_type": "code",
   "execution_count": 11,
   "id": "4285dde2-f3c3-441d-8ad8-78e61eddf71c",
   "metadata": {},
   "outputs": [],
   "source": [
    "X_smote, y_smote = smote.fit_resample(X,y)"
   ]
  },
  {
   "cell_type": "code",
   "execution_count": 12,
   "id": "5d9f652d-955c-4ea7-b20b-d0c5d4e627de",
   "metadata": {},
   "outputs": [
    {
     "name": "stdout",
     "output_type": "stream",
     "text": [
      "Before SMOTE : Counter({0: 5114, 1: 2009})\n",
      "After SMOTE : Counter({1: 5114, 0: 5114})\n"
     ]
    }
   ],
   "source": [
    "from collections import Counter\n",
    "print(\"Before SMOTE :\" , Counter(y))\n",
    "print(\"After SMOTE :\" , Counter(y_smote))"
   ]
  },
  {
   "cell_type": "code",
   "execution_count": 13,
   "id": "cdc437f1-38a1-493d-87cc-51a8c4ca81b0",
   "metadata": {},
   "outputs": [
    {
     "name": "stderr",
     "output_type": "stream",
     "text": [
      "<ipython-input-13-97c4acf49ec5>:1: PerformanceWarning: DataFrame is highly fragmented.  This is usually the result of calling `frame.insert` many times, which has poor performance.  Consider joining all columns at once using pd.concat(axis=1) instead.  To get a de-fragmented frame, use `newframe = frame.copy()`\n",
      "  X_smote[\"RowConfirmation\"]=y_smote\n"
     ]
    }
   ],
   "source": [
    "X_smote[\"RowConfirmation\"]=y_smote"
   ]
  },
  {
   "cell_type": "code",
   "execution_count": 14,
   "id": "1407b750-dbee-4ddc-ab87-011e67343ffa",
   "metadata": {},
   "outputs": [
    {
     "name": "stdout",
     "output_type": "stream",
     "text": [
      "<class 'pandas.core.frame.DataFrame'>\n",
      "RangeIndex: 10228 entries, 0 to 10227\n",
      "Columns: 174 entries, Measurement to RowConfirmation\n",
      "dtypes: float64(5), int64(169)\n",
      "memory usage: 13.6 MB\n"
     ]
    }
   ],
   "source": [
    "X_smote.info()"
   ]
  },
  {
   "cell_type": "code",
   "execution_count": 15,
   "id": "74fd0a49-038d-49e8-8218-1a320a9e2192",
   "metadata": {},
   "outputs": [],
   "source": [
    "X=X_smote"
   ]
  },
  {
   "cell_type": "code",
   "execution_count": 16,
   "id": "7b5ea5e9-b5de-4381-b562-5ec4fed1529e",
   "metadata": {},
   "outputs": [
    {
     "name": "stdout",
     "output_type": "stream",
     "text": [
      "<class 'pandas.core.frame.DataFrame'>\n",
      "RangeIndex: 10228 entries, 0 to 10227\n",
      "Columns: 174 entries, Measurement to RowConfirmation\n",
      "dtypes: float64(5), int64(169)\n",
      "memory usage: 13.6 MB\n"
     ]
    }
   ],
   "source": [
    "X.info()"
   ]
  },
  {
   "cell_type": "code",
   "execution_count": 17,
   "id": "ebcb6eb9-36e5-406d-b0ff-e7bb08e71585",
   "metadata": {},
   "outputs": [
    {
     "data": {
      "text/plain": [
       "1    5114\n",
       "0    5114\n",
       "Name: RowConfirmation, dtype: int64"
      ]
     },
     "execution_count": 17,
     "metadata": {},
     "output_type": "execute_result"
    }
   ],
   "source": [
    "X.RowConfirmation.value_counts()"
   ]
  },
  {
   "cell_type": "code",
   "execution_count": 18,
   "id": "da9b56c3-608f-468b-8ab0-9cc87bac5aba",
   "metadata": {},
   "outputs": [],
   "source": [
    "X['RowConfirmation'] = X['RowConfirmation'].astype('category');"
   ]
  },
  {
   "cell_type": "markdown",
   "id": "7822dfeb-5fb0-407d-bbad-614a118788c3",
   "metadata": {},
   "source": [
    "# MODELLING"
   ]
  },
  {
   "cell_type": "code",
   "execution_count": 19,
   "id": "9fb2ac8b-0661-4a34-bb33-6c00be4c0ba3",
   "metadata": {},
   "outputs": [],
   "source": [
    "#pip install fast_ml"
   ]
  },
  {
   "cell_type": "code",
   "execution_count": 20,
   "id": "546a9623-2852-4722-9e28-f599e490c26e",
   "metadata": {},
   "outputs": [],
   "source": [
    "from sklearn.model_selection import train_test_split, GridSearchCV,cross_val_score\n",
    "from sklearn.metrics import mean_squared_error, r2_score\n",
    "import matplotlib.pyplot as plt\n",
    "from sklearn.preprocessing import scale \n",
    "from sklearn import model_selection\n",
    "from sklearn.tree import DecisionTreeRegressor, DecisionTreeClassifier\n",
    "from sklearn.neighbors import KNeighborsRegressor\n",
    "from sklearn.ensemble import BaggingRegressor"
   ]
  },
  {
   "cell_type": "code",
   "execution_count": 21,
   "id": "142e857f-6596-4d3b-aeef-c15963342106",
   "metadata": {},
   "outputs": [],
   "source": [
    "from fast_ml.model_development import train_valid_test_split\n",
    "from sklearn.metrics import mean_squared_error, r2_score\n",
    "import matplotlib.pyplot as plt\n",
    "from sklearn.preprocessing import scale \n",
    "from sklearn import model_selection\n",
    "from sklearn.metrics import confusion_matrix, accuracy_score, classification_report\n",
    "X_train, y_train, X_valid, y_valid, X_test, y_test = train_valid_test_split(X, target='RowConfirmation', train_size=0.8, valid_size=0.1, test_size=0.1,random_state=2)"
   ]
  },
  {
   "cell_type": "code",
   "execution_count": 22,
   "id": "c593687f-634e-43c0-9714-3bdc485c973c",
   "metadata": {},
   "outputs": [
    {
     "ename": "NameError",
     "evalue": "name 'wait' is not defined",
     "output_type": "error",
     "traceback": [
      "\u001b[1;31m---------------------------------------------------------------------------\u001b[0m",
      "\u001b[1;31mNameError\u001b[0m                                 Traceback (most recent call last)",
      "\u001b[1;32m<ipython-input-22-cc92d94c96b0>\u001b[0m in \u001b[0;36m<module>\u001b[1;34m\u001b[0m\n\u001b[1;32m----> 1\u001b[1;33m \u001b[0mwait\u001b[0m\u001b[1;33m\u001b[0m\u001b[1;33m\u001b[0m\u001b[0m\n\u001b[0m",
      "\u001b[1;31mNameError\u001b[0m: name 'wait' is not defined"
     ]
    }
   ],
   "source": [
    "wait"
   ]
  },
  {
   "cell_type": "markdown",
   "id": "3fcff4e3-f3de-48d0-a28c-27518a906b2d",
   "metadata": {
    "jp-MarkdownHeadingCollapsed": true,
    "tags": []
   },
   "source": [
    "## KNN"
   ]
  },
  {
   "cell_type": "code",
   "execution_count": null,
   "id": "240716dc-be39-4a3e-af64-39b4776a1317",
   "metadata": {},
   "outputs": [],
   "source": [
    "from sklearn.neighbors import KNeighborsClassifier\n",
    "knn = KNeighborsClassifier()\n",
    "knn_model = knn.fit(X_train, y_train)\n",
    "y_pred = knn_model.predict(X_test)\n",
    "print(accuracy_score(y_test, y_pred))\n",
    "print(classification_report(y_test, y_pred))"
   ]
  },
  {
   "cell_type": "markdown",
   "id": "76612be4-223f-4ca7-acc9-b3c1f6ff723b",
   "metadata": {},
   "source": [
    "### KNN Grid Search"
   ]
  },
  {
   "cell_type": "code",
   "execution_count": null,
   "id": "0f38ffd5-60f2-4ca9-801d-39dd4e5d5a02",
   "metadata": {},
   "outputs": [],
   "source": [
    "from sklearn.neighbors import KNeighborsClassifier\n",
    "from sklearn.model_selection import GridSearchCV, cross_val_score\n",
    "\n",
    "\n",
    "knn_params = {\"n_neighbors\": np.arange(1,11,2)}\n",
    "knn = KNeighborsClassifier()\n",
    "knn_cv = GridSearchCV(knn, knn_params, cv=10)\n",
    "knn_cv.fit(X_valid, y_valid)\n",
    "print(\"The best parameters: \" + str(knn_cv.best_params_))\n",
    "\n",
    "knn = KNeighborsClassifier(knn_cv.best_params_.get('n_neighbors'))\n",
    "knn_tuned = knn.fit(X_train, y_train)\n",
    "y_pred = knn_tuned.predict(X_test)\n",
    "\n",
    "print(accuracy_score(y_test, y_pred))\n",
    "print(classification_report(y_test, y_pred))\n",
    "scores = cross_val_score(knn, X.drop(\"RowConfirmation\",axis=1), X[\"RowConfirmation\"], cv=10, scoring='accuracy')\n",
    "print(scores.mean())"
   ]
  },
  {
   "cell_type": "markdown",
   "id": "852a1e20-d0e9-4a14-a94a-90bc852ae40c",
   "metadata": {
    "jp-MarkdownHeadingCollapsed": true,
    "tags": []
   },
   "source": [
    "## SVC"
   ]
  },
  {
   "cell_type": "code",
   "execution_count": null,
   "id": "1b0a6e8b-f9bb-44ff-8bf1-985a726e36b0",
   "metadata": {},
   "outputs": [],
   "source": [
    "from sklearn.svm import SVC\n",
    "\n",
    "X_train, y_train, X_valid, y_valid, X_test, y_test = train_valid_test_split(X, target = 'RowConfirmation', random_state=2,train_size=0.8, valid_size=0.1, test_size=0.1)\n",
    "svc= SVC()\n",
    "scv_model = svc.fit(X_train, y_train)\n",
    "y_pred = svc.predict(X_test)\n",
    "print(accuracy_score(y_test, y_pred))\n",
    "print(classification_report(y_test, y_pred))"
   ]
  },
  {
   "cell_type": "markdown",
   "id": "4bc9cb99-2dfa-47ad-a94f-228ab8ef3917",
   "metadata": {},
   "source": [
    "### SVC Grid Search"
   ]
  },
  {
   "cell_type": "code",
   "execution_count": null,
   "id": "dd03e174-af7d-4e43-b4b8-a547e929eb6c",
   "metadata": {},
   "outputs": [],
   "source": [
    "svc_params= {'C': [0.1, 1, 10, 100, 1000],\n",
    "               'gamma': [1, 0.1, 0.01, 0.001, 0.0001],\n",
    "              'kernel': ['rbf', 'poly', 'sigmoid'],\n",
    "              'degree':[1,2,3,4,5,6]\n",
    "}\n",
    "svc = SVC()\n",
    "svc_cv = GridSearchCV(svc, svc_params, cv=10, n_jobs =-1 , verbose = 2)\n",
    "svc_cv.fit(X_valid, y_valid)\n",
    "print(\"Best params: \" + str(svc_cv.best_params_))\n",
    "\n",
    "svc = SVC(C=svc_cv.best_params_.get('C'), gamma = svc_cv.best_params_.get('gamma'),kernel=svc_cv.best_params_.get('kernel'),degree=svc_cv.best_params_.get('degree'),)\n",
    "svc_cv_tuned = svc.fit(X_train, y_train)\n",
    "y_pred = svc_cv_tuned.predict(X_test)\n",
    "print(accuracy_score(y_test, y_pred))\n",
    "print(classification_report(y_test, y_pred))\n",
    "scores = cross_val_score(svc, X.drop([\"RowConfirmation\"],axis=1), X[\"RowConfirmation\"], cv=10, scoring='accuracy')\n",
    "print(scores.mean())"
   ]
  },
  {
   "cell_type": "markdown",
   "id": "1a29810a-9304-443b-aae3-2a3ca2ffed93",
   "metadata": {
    "jp-MarkdownHeadingCollapsed": true,
    "tags": []
   },
   "source": [
    "## NAIVE BAYES"
   ]
  },
  {
   "cell_type": "code",
   "execution_count": null,
   "id": "108867e1-5e7f-4287-910a-92d1e626f8e2",
   "metadata": {},
   "outputs": [],
   "source": [
    "from sklearn.naive_bayes import GaussianNB\n",
    "from sklearn.metrics import confusion_matrix, accuracy_score, classification_report\n",
    "\n",
    "\n",
    "X_train, y_train, X_valid, y_valid, X_test, y_test = train_valid_test_split(X, target = 'RowConfirmation', random_state=2,train_size=0.8, valid_size=0.1, test_size=0.1)\n",
    "n_bayes = GaussianNB()\n",
    "n_bayes_model = n_bayes.fit(X_train, y_train)\n",
    "y_pred = n_bayes_model.predict(X_test)\n",
    "print(accuracy_score(y_test, y_pred))\n",
    "print(classification_report(y_test, y_pred))"
   ]
  },
  {
   "cell_type": "markdown",
   "id": "657edd7b-b613-4386-9ef1-5bf6c8fec0d3",
   "metadata": {
    "tags": []
   },
   "source": [
    "### Naive Bayes Grid Search"
   ]
  },
  {
   "cell_type": "code",
   "execution_count": null,
   "id": "25ced385-b070-4621-856e-c83e95b35250",
   "metadata": {},
   "outputs": [],
   "source": [
    "from sklearn.model_selection import GridSearchCV, cross_val_score\n",
    "\n",
    "n_bayes_params = {'var_smoothing': np.logspace(0,-9, num=100)}\n",
    "n_bayes = GaussianNB()\n",
    "n_bayes_cv =  GridSearchCV(n_bayes, n_bayes_params, cv=10, n_jobs =-1 , verbose = 2)\n",
    "n_bayes_cv.fit(X_valid, y_valid)\n",
    "print(\"Best params: \" + str(n_bayes_cv.best_params_))\n",
    "n_bayes_tuned = GaussianNB(var_smoothing = n_bayes_cv.best_params_.get('var_smoothing'))\n",
    "n_bayes_tuned.fit(X_train, y_train)\n",
    "y_pred = n_bayes_tuned.predict(X_test)\n",
    "print(accuracy_score(y_test, y_pred))\n",
    "print(classification_report(y_test, y_pred))\n",
    "scores = cross_val_score(n_bayes_tuned, X.drop([\"RowConfirmation\"],axis=1), X[\"RowConfirmation\"], cv=10, scoring='accuracy')\n",
    "print(scores.mean())"
   ]
  },
  {
   "cell_type": "code",
   "execution_count": null,
   "id": "006786ac-28f4-47eb-965d-c7d5d5caca82",
   "metadata": {},
   "outputs": [],
   "source": []
  },
  {
   "cell_type": "markdown",
   "id": "4f72b3f3-c122-458f-bfd5-726b60b5d80e",
   "metadata": {
    "jp-MarkdownHeadingCollapsed": true,
    "tags": []
   },
   "source": [
    "## RANDOM FOREST"
   ]
  },
  {
   "cell_type": "code",
   "execution_count": null,
   "id": "1db72822-2eff-47f2-b8cc-a9c38b67d6ce",
   "metadata": {},
   "outputs": [],
   "source": [
    "from sklearn.ensemble import RandomForestClassifier\n",
    "\n",
    "X_train, y_train, X_valid, y_valid, X_test, y_test = train_valid_test_split(X, target = 'RowConfirmation', train_size=0.8, valid_size=0.1, test_size=0.1,random_state=2)\n",
    "rf_model = RandomForestClassifier().fit(X_train,y_train)\n",
    "y_pred = rf_model.predict(X_test)\n",
    "print(accuracy_score(y_test, y_pred))\n",
    "print(classification_report(y_test, y_pred))"
   ]
  },
  {
   "cell_type": "markdown",
   "id": "828b3d4e-f19b-4638-8191-38d3d85e5bad",
   "metadata": {},
   "source": [
    "### Random Forest Grid Search"
   ]
  },
  {
   "cell_type": "code",
   "execution_count": null,
   "id": "39178f79-9d23-4759-aafa-e5a5b7958153",
   "metadata": {},
   "outputs": [],
   "source": [
    "from sklearn.model_selection import GridSearchCV\n",
    "\n",
    "# Number of trees in random forest\n",
    "n_estimators = [int(x) for x in np.linspace(start = 10, stop = 2000, num = 10)]\n",
    "# Number of features to consider at every split\n",
    "max_features = ['auto', 'sqrt']\n",
    "# Maximum number of levels in tree\n",
    "max_depth = [2,4,5,8,10]\n",
    "# Minimum number of samples required to split a node\n",
    "min_samples_split = [2, 5,10]\n",
    "# Minimum number of samples required at each leaf node\n",
    "min_samples_leaf = [1, 2]\n",
    "# Method of selecting samples for training each tree\n",
    "bootstrap = [True, False]\n",
    "\n",
    "# Create the param grid\n",
    "rf_params = {'n_estimators': n_estimators,\n",
    "            \"criterion\" : [\"gini\",\"entropy\"],\n",
    "               'max_features': max_features,\n",
    "               'max_depth': max_depth,\n",
    "               'min_samples_split': min_samples_split,\n",
    "               'min_samples_leaf': min_samples_leaf,\n",
    "               'bootstrap': bootstrap}\n",
    "\n",
    "rf_model = RandomForestClassifier()\n",
    "rf_cv_model = GridSearchCV(rf_model, \n",
    "                           rf_params, \n",
    "                           cv = 10, \n",
    "                           n_jobs = -1, \n",
    "                           verbose = 2) \n",
    "rf_cv_model.fit(X_valid, y_valid)\n",
    "print(\"Best params: \" + str(rf_cv_model.best_params_))\n",
    "\n"
   ]
  },
  {
   "cell_type": "code",
   "execution_count": null,
   "id": "202fa311-9345-429b-9066-814edf88843a",
   "metadata": {},
   "outputs": [],
   "source": [
    "rf_tuned = RandomForestClassifier(max_depth =rf_cv_model.best_params_.get('max_depth'),\n",
    "                                 max_features= rf_cv_model.best_params_.get('max_features'),\n",
    "                                 min_samples_split =rf_cv_model.best_params_.get('min_samples_split') ,\n",
    "                                 n_estimators= rf_cv_model.best_params_.get('n_estimators'),\n",
    "                                 min_samples_leaf= rf_cv_model.best_params_.get('min_samples_leaf'),\n",
    "                                 criterion=rf_cv_model.best_params_.get('criterion'),\n",
    "                                 bootstrap=rf_cv_model.best_params_.get('bootstrap'))\n",
    "rf_tuned.fit(X_train,y_train)\n",
    "y_pred = rf_tuned.predict(X_test)\n",
    "print(accuracy_score(y_test, y_pred))\n",
    "print(classification_report(y_test, y_pred))"
   ]
  },
  {
   "cell_type": "markdown",
   "id": "322e215f-c38b-41d0-966b-d2784a65b541",
   "metadata": {
    "tags": []
   },
   "source": [
    "## NEURAL NETWORK"
   ]
  },
  {
   "cell_type": "code",
   "execution_count": null,
   "id": "4bcf3310-d8ea-481c-b8ff-c25577361e8a",
   "metadata": {},
   "outputs": [],
   "source": [
    "from sklearn.neural_network import MLPClassifier\n",
    "\n",
    "X_train, y_train, X_valid, y_valid, X_test, y_test = train_valid_test_split(X, target = 'RowConfirmation', train_size=0.8, valid_size=0.1, test_size=0.1,random_state=2)\n",
    "mlpc = MLPClassifier().fit(X_train, y_train)\n",
    "y_pred = mlpc.predict(X_test)\n",
    "print(accuracy_score(y_test, y_pred))\n",
    "print(classification_report(y_test, y_pred))"
   ]
  },
  {
   "cell_type": "markdown",
   "id": "a7d3e92f-9ed9-4793-ad8c-fd8219edf317",
   "metadata": {
    "tags": []
   },
   "source": [
    "### Grid Search"
   ]
  },
  {
   "cell_type": "code",
   "execution_count": null,
   "id": "c97719e9-244c-44f6-8cb9-524a57fb61bf",
   "metadata": {
    "tags": []
   },
   "outputs": [],
   "source": [
    "mlpc_params = {\n",
    "\"alpha\": [0.1, 0.01, 0.02],\n",
    "\"hidden_layer_sizes\": [(10,10,10),\n",
    "                       (100,100,100),\n",
    "                       (150,100,50),\n",
    "                       (120,80,40)],\n",
    "\"solver\" : [\"lbfgs\",\"adam\",\"sgd\"],\n",
    "'max_iter': [50, 100,150,1100,1400,1500,1700,2000 ],\n",
    "\"activation\": ['relu', 'tanh', 'logistic', 'identity'],\n",
    "'random_state':[0,1,2,3,4,5,6,7,8,9],\n",
    "'learning_rate': ['constant','adaptive']\n",
    "}\n",
    "mlpc = MLPClassifier()\n",
    "mlpc_cv_model = GridSearchCV(mlpc, mlpc_params, \n",
    "                         cv = 10, \n",
    "                         n_jobs = -1,\n",
    "                         verbose = 2)\n",
    "mlpc_cv_model.fit(X_valid, y_valid)\n",
    "print(\"Best params: \" + str(mlpc_cv_model.best_params_))"
   ]
  },
  {
   "cell_type": "code",
   "execution_count": null,
   "id": "5627b17c-5a56-406b-ada2-6817284d2aeb",
   "metadata": {},
   "outputs": [],
   "source": []
  },
  {
   "cell_type": "code",
   "execution_count": null,
   "id": "280a99f6-5806-491c-85cc-db2f6b935d2c",
   "metadata": {},
   "outputs": [],
   "source": [
    "stop"
   ]
  },
  {
   "cell_type": "markdown",
   "id": "aa18283e-fcd5-4d8f-87a9-4807a785df7f",
   "metadata": {
    "tags": []
   },
   "source": [
    "## GBM"
   ]
  },
  {
   "cell_type": "code",
   "execution_count": null,
   "id": "24801beb-dd80-4e68-8705-9f73a2d6e00b",
   "metadata": {},
   "outputs": [],
   "source": [
    "from sklearn.ensemble import GradientBoostingRegressor\n",
    "from sklearn.ensemble import GradientBoostingClassifier\n",
    "from sklearn.ensemble import BaggingRegressor"
   ]
  },
  {
   "cell_type": "code",
   "execution_count": null,
   "id": "28cbd8b1-248c-47c4-914a-cc0372f75a87",
   "metadata": {},
   "outputs": [],
   "source": [
    "gbm_model = GradientBoostingClassifier()\n",
    "gbm_model.fit(X_train, y_train)"
   ]
  },
  {
   "cell_type": "code",
   "execution_count": null,
   "id": "dac8cae3-f7f5-4c87-8d53-26dfa2f70ef7",
   "metadata": {},
   "outputs": [],
   "source": [
    "y_pred = gbm_model.predict(X_test)\n",
    "MSE=np.sqrt(mean_squared_error(y_test, y_pred))"
   ]
  },
  {
   "cell_type": "code",
   "execution_count": null,
   "id": "4718a5cb-6486-415a-8433-acaa9415711b",
   "metadata": {},
   "outputs": [],
   "source": [
    "acc=accuracy_score(y_test,y_pred)"
   ]
  },
  {
   "cell_type": "code",
   "execution_count": null,
   "id": "71979e11-356a-4979-bf16-50dbc3313848",
   "metadata": {},
   "outputs": [],
   "source": [
    "print(\"Accuracy: \",acc)\n",
    "print(\"MSE:\", MSE)"
   ]
  },
  {
   "cell_type": "code",
   "execution_count": null,
   "id": "897ec196-8059-4cdf-a46b-ed0abf184d08",
   "metadata": {},
   "outputs": [],
   "source": [
    "classification_report = classification_report(y_test, y_pred)"
   ]
  },
  {
   "cell_type": "code",
   "execution_count": null,
   "id": "d4603fa2-eeae-42f3-964f-edd98c9a3e32",
   "metadata": {},
   "outputs": [],
   "source": [
    "print(\"MSE:     \", MSE)\n",
    "print(\"Accuracy:  \",acc)\n",
    "print(\"\\nClassification Report:\\n\", classification_report)"
   ]
  },
  {
   "cell_type": "markdown",
   "id": "0229b815-e5b8-4960-bfb5-fadccc73a796",
   "metadata": {
    "tags": []
   },
   "source": [
    "### GBM Grid Search"
   ]
  },
  {
   "cell_type": "code",
   "execution_count": null,
   "id": "6fe47be7-6646-4192-804e-2a0ebd67d716",
   "metadata": {},
   "outputs": [],
   "source": [
    "from sklearn.model_selection import GridSearchCV"
   ]
  },
  {
   "cell_type": "code",
   "execution_count": null,
   "id": "1131a626-3158-40da-a14b-47be02b9edc9",
   "metadata": {
    "tags": []
   },
   "outputs": [],
   "source": [
    "gbm_params = {\n",
    "    'learning_rate': [ 0.01, 0.1],\n",
    "    'max_depth': [5,50],\n",
    "    'n_estimators': [100, 500],\n",
    "    'subsample': [1,0.5],\n",
    "}\n",
    "\n",
    "gbm = GradientBoostingClassifier()\n",
    "gbm_cv = GridSearchCV(gbm, gbm_params, cv = 10, n_jobs = -1, verbose = 2)\n",
    "gbm_cv.fit(X_train, y_train)\n",
    "\n",
    "print(\"Best params: \",gbm_cv.best_params_)\n",
    "\n",
    "gbm  = GradientBoostingClassifier(learning_rate = gbm_cv.best_params_.get('learning_rate'),  \n",
    "                                      max_depth = gbm_cv.best_params_.get('max_depth'), \n",
    "                                      n_estimators = gbm_cv.best_params_.get('n_estimators'), \n",
    "                                      subsample = gbm_cv.best_params_.get('subsample'))\n",
    "gbm = gbm.fit(X_train,y_train)"
   ]
  },
  {
   "cell_type": "code",
   "execution_count": null,
   "id": "85187420-ecd9-4425-a95d-1744d28e30d9",
   "metadata": {},
   "outputs": [],
   "source": [
    "scores = cross_val_score(gbm, X.drop([\"RowConfirmation\"],axis=1), X[\"RowConfirmation\"], cv=10, scoring='accuracy')"
   ]
  },
  {
   "cell_type": "code",
   "execution_count": null,
   "id": "ab63d71c-4d19-49f3-824b-62a55b5e4a86",
   "metadata": {},
   "outputs": [],
   "source": [
    "y_pred = gbm.predict(X_test)\n",
    "acc= accuracy_score(y_test,y_pred)\n",
    "classification_report = classification_report(y_test, y_pred)"
   ]
  },
  {
   "cell_type": "code",
   "execution_count": null,
   "id": "6827ac40-b965-4534-8bff-ef21a124fe05",
   "metadata": {},
   "outputs": [],
   "source": [
    "MSE=np.sqrt(mean_squared_error(y_test, y_pred))"
   ]
  },
  {
   "cell_type": "code",
   "execution_count": null,
   "id": "8062efd1-121a-4057-a478-f2e3cc61b1c9",
   "metadata": {},
   "outputs": [],
   "source": [
    "print(\"Score:     \",scores.mean())\n",
    "print(\"MSE:     \", MSE)\n",
    "print(\"Accuracy:  \",acc)\n",
    "print(\"\\nClassification Report:\\n\", classification_report)"
   ]
  },
  {
   "cell_type": "code",
   "execution_count": null,
   "id": "95c8d8c8-ef54-4516-a653-fdb98595515f",
   "metadata": {},
   "outputs": [],
   "source": []
  },
  {
   "cell_type": "code",
   "execution_count": null,
   "id": "ef2e0eca-bc42-45ce-8d12-993f2e96c9cc",
   "metadata": {},
   "outputs": [],
   "source": [
    "stop"
   ]
  },
  {
   "cell_type": "markdown",
   "id": "3064f12d-68d2-41d3-89fb-8c249f3bc5cd",
   "metadata": {},
   "source": [
    "## XGBoost"
   ]
  },
  {
   "cell_type": "code",
   "execution_count": null,
   "id": "f532bb66-002a-42d5-a9f9-beeb84e4ad15",
   "metadata": {},
   "outputs": [],
   "source": [
    "!pip install xgboost"
   ]
  },
  {
   "cell_type": "code",
   "execution_count": 23,
   "id": "b500a4b1-1a31-410f-8a9f-4f1ac2384743",
   "metadata": {},
   "outputs": [],
   "source": [
    "from xgboost import XGBClassifier"
   ]
  },
  {
   "cell_type": "code",
   "execution_count": 24,
   "id": "3a322549-0a9f-49db-998d-e70950783f03",
   "metadata": {},
   "outputs": [],
   "source": [
    "xgb_model = XGBClassifier().fit(X_train, y_train)"
   ]
  },
  {
   "cell_type": "code",
   "execution_count": 25,
   "id": "2263f1dd-1724-448a-9ff8-d96909286d51",
   "metadata": {},
   "outputs": [],
   "source": [
    "y_pred = xgb_model.predict(X_test)\n",
    "acc=accuracy_score(y_test,y_pred)\n",
    "MSE=np.sqrt(mean_squared_error(y_test, y_pred))"
   ]
  },
  {
   "cell_type": "code",
   "execution_count": 26,
   "id": "938afaca-1b20-4965-b0f9-8d4375b9319c",
   "metadata": {},
   "outputs": [],
   "source": [
    "classification_report = classification_report(y_test, y_pred)"
   ]
  },
  {
   "cell_type": "code",
   "execution_count": 27,
   "id": "10e7d868-48db-413b-9b9c-f50b039f3872",
   "metadata": {},
   "outputs": [
    {
     "name": "stdout",
     "output_type": "stream",
     "text": [
      "MSE:      0.28825154649489043\n",
      "Accuracy:   0.916911045943304\n",
      "\n",
      "Classification Report:\n",
      "               precision    recall  f1-score   support\n",
      "\n",
      "           0       0.96      0.87      0.91       513\n",
      "           1       0.88      0.96      0.92       510\n",
      "\n",
      "    accuracy                           0.92      1023\n",
      "   macro avg       0.92      0.92      0.92      1023\n",
      "weighted avg       0.92      0.92      0.92      1023\n",
      "\n"
     ]
    }
   ],
   "source": [
    "print(\"MSE:     \", MSE)\n",
    "print(\"Accuracy:  \",acc)\n",
    "print(\"\\nClassification Report:\\n\", classification_report)"
   ]
  },
  {
   "cell_type": "code",
   "execution_count": null,
   "id": "5f08959a-802f-447c-a8d3-a2ae6bf449d8",
   "metadata": {},
   "outputs": [],
   "source": [
    "print(\"Accuracy: \",acc)\n",
    "print(\"MSE:\", MSE)"
   ]
  },
  {
   "cell_type": "markdown",
   "id": "e019096e-e70b-406a-8766-aca8fd3799e3",
   "metadata": {},
   "source": [
    "### XGBoost Grid Search"
   ]
  },
  {
   "cell_type": "code",
   "execution_count": 28,
   "id": "e89ab522-bbee-4914-b335-9ed4de5137f8",
   "metadata": {},
   "outputs": [],
   "source": [
    "xgb_params = {\n",
    "        'n_estimators': [100, 1000],\n",
    "        'subsample': [0.5, 1.0],\n",
    "        'max_depth': [3, 7],\n",
    "        'learning_rate': [0.1,0.01],\n",
    "        \"min_samples_split\": [2,10]}"
   ]
  },
  {
   "cell_type": "code",
   "execution_count": 29,
   "id": "714554b5-e210-4f4a-bc61-b0753706cc74",
   "metadata": {},
   "outputs": [],
   "source": [
    "xgb = XGBClassifier()\n",
    "xgb_cv = GridSearchCV(xgb, xgb_params, cv = 10, n_jobs = -1, verbose = 2)"
   ]
  },
  {
   "cell_type": "code",
   "execution_count": 30,
   "id": "75598a1a-2282-4d9f-9d78-e11cd0982e43",
   "metadata": {},
   "outputs": [
    {
     "name": "stdout",
     "output_type": "stream",
     "text": [
      "Fitting 10 folds for each of 32 candidates, totalling 320 fits\n",
      "[06:41:27] WARNING: C:/Users/Administrator/workspace/xgboost-win64_release_1.6.0/src/learner.cc:627: \n",
      "Parameters: { \"min_samples_split\" } might not be used.\n",
      "\n",
      "  This could be a false alarm, with some parameters getting used by language bindings but\n",
      "  then being mistakenly passed down to XGBoost core, or some parameter actually being used\n",
      "  but getting flagged wrongly here. Please open an issue if you find any such cases.\n",
      "\n",
      "\n"
     ]
    },
    {
     "data": {
      "text/plain": [
       "GridSearchCV(cv=10,\n",
       "             estimator=XGBClassifier(base_score=None, booster=None,\n",
       "                                     callbacks=None, colsample_bylevel=None,\n",
       "                                     colsample_bynode=None,\n",
       "                                     colsample_bytree=None,\n",
       "                                     early_stopping_rounds=None,\n",
       "                                     enable_categorical=False, eval_metric=None,\n",
       "                                     gamma=None, gpu_id=None, grow_policy=None,\n",
       "                                     importance_type=None,\n",
       "                                     interaction_constraints=None,\n",
       "                                     learning_rate=None, max_bin=None,\n",
       "                                     max_c...\n",
       "                                     max_leaves=None, min_child_weight=None,\n",
       "                                     missing=nan, monotone_constraints=None,\n",
       "                                     n_estimators=100, n_jobs=None,\n",
       "                                     num_parallel_tree=None, predictor=None,\n",
       "                                     random_state=None, reg_alpha=None,\n",
       "                                     reg_lambda=None, ...),\n",
       "             n_jobs=-1,\n",
       "             param_grid={'learning_rate': [0.1, 0.01], 'max_depth': [3, 7],\n",
       "                         'min_samples_split': [2, 10],\n",
       "                         'n_estimators': [100, 1000], 'subsample': [0.5, 1.0]},\n",
       "             verbose=2)"
      ]
     },
     "execution_count": 30,
     "metadata": {},
     "output_type": "execute_result"
    }
   ],
   "source": [
    "xgb_cv.fit(X_train, y_train)"
   ]
  },
  {
   "cell_type": "code",
   "execution_count": 31,
   "id": "4b4e2971-3f88-4e7b-bfb0-dc62e935b4e0",
   "metadata": {},
   "outputs": [
    {
     "data": {
      "text/plain": [
       "{'learning_rate': 0.01,\n",
       " 'max_depth': 7,\n",
       " 'min_samples_split': 2,\n",
       " 'n_estimators': 1000,\n",
       " 'subsample': 0.5}"
      ]
     },
     "execution_count": 31,
     "metadata": {},
     "output_type": "execute_result"
    }
   ],
   "source": [
    "xgb_cv.best_params_"
   ]
  },
  {
   "cell_type": "code",
   "execution_count": 32,
   "id": "cc4f0a9b-d2af-48ef-aabb-ce4bee20d2b6",
   "metadata": {},
   "outputs": [],
   "source": [
    "xgb = XGBClassifier(learning_rate= xgb_cv.best_params_.get('learning_rate'),\n",
    "                   max_depth= xgb_cv.best_params_.get('max_depth'),\n",
    "                   min_samples_split= xgb_cv.best_params_.get('min_samples_split'),\n",
    "                   n_estimators= xgb_cv.best_params_.get('n_estimators'),\n",
    "                   subsample= xgb_cv.best_params_.get('subsample'))"
   ]
  },
  {
   "cell_type": "code",
   "execution_count": 33,
   "id": "ebe4121e-0f08-4685-8ce3-6088b6bf0fe4",
   "metadata": {},
   "outputs": [
    {
     "name": "stdout",
     "output_type": "stream",
     "text": [
      "[06:42:03] WARNING: C:/Users/Administrator/workspace/xgboost-win64_release_1.6.0/src/learner.cc:627: \n",
      "Parameters: { \"min_samples_split\" } might not be used.\n",
      "\n",
      "  This could be a false alarm, with some parameters getting used by language bindings but\n",
      "  then being mistakenly passed down to XGBoost core, or some parameter actually being used\n",
      "  but getting flagged wrongly here. Please open an issue if you find any such cases.\n",
      "\n",
      "\n"
     ]
    }
   ],
   "source": [
    "xgb_tuned = xgb.fit(X_train, y_train)"
   ]
  },
  {
   "cell_type": "code",
   "execution_count": 34,
   "id": "7fb9fcb0-b7cc-4b6c-984a-33337f9f7483",
   "metadata": {},
   "outputs": [],
   "source": [
    "y_pred = xgb_tuned.predict(X_test)\n",
    "acc= accuracy_score(y_test,y_pred)"
   ]
  },
  {
   "cell_type": "code",
   "execution_count": 35,
   "id": "004d51e9-a221-4103-b62f-468641c17bae",
   "metadata": {
    "tags": []
   },
   "outputs": [
    {
     "name": "stdout",
     "output_type": "stream",
     "text": [
      "[06:42:37] WARNING: C:/Users/Administrator/workspace/xgboost-win64_release_1.6.0/src/learner.cc:627: \n",
      "Parameters: { \"min_samples_split\" } might not be used.\n",
      "\n",
      "  This could be a false alarm, with some parameters getting used by language bindings but\n",
      "  then being mistakenly passed down to XGBoost core, or some parameter actually being used\n",
      "  but getting flagged wrongly here. Please open an issue if you find any such cases.\n",
      "\n",
      "\n",
      "[06:43:13] WARNING: C:/Users/Administrator/workspace/xgboost-win64_release_1.6.0/src/learner.cc:627: \n",
      "Parameters: { \"min_samples_split\" } might not be used.\n",
      "\n",
      "  This could be a false alarm, with some parameters getting used by language bindings but\n",
      "  then being mistakenly passed down to XGBoost core, or some parameter actually being used\n",
      "  but getting flagged wrongly here. Please open an issue if you find any such cases.\n",
      "\n",
      "\n",
      "[06:43:49] WARNING: C:/Users/Administrator/workspace/xgboost-win64_release_1.6.0/src/learner.cc:627: \n",
      "Parameters: { \"min_samples_split\" } might not be used.\n",
      "\n",
      "  This could be a false alarm, with some parameters getting used by language bindings but\n",
      "  then being mistakenly passed down to XGBoost core, or some parameter actually being used\n",
      "  but getting flagged wrongly here. Please open an issue if you find any such cases.\n",
      "\n",
      "\n",
      "[06:44:25] WARNING: C:/Users/Administrator/workspace/xgboost-win64_release_1.6.0/src/learner.cc:627: \n",
      "Parameters: { \"min_samples_split\" } might not be used.\n",
      "\n",
      "  This could be a false alarm, with some parameters getting used by language bindings but\n",
      "  then being mistakenly passed down to XGBoost core, or some parameter actually being used\n",
      "  but getting flagged wrongly here. Please open an issue if you find any such cases.\n",
      "\n",
      "\n",
      "[06:45:01] WARNING: C:/Users/Administrator/workspace/xgboost-win64_release_1.6.0/src/learner.cc:627: \n",
      "Parameters: { \"min_samples_split\" } might not be used.\n",
      "\n",
      "  This could be a false alarm, with some parameters getting used by language bindings but\n",
      "  then being mistakenly passed down to XGBoost core, or some parameter actually being used\n",
      "  but getting flagged wrongly here. Please open an issue if you find any such cases.\n",
      "\n",
      "\n",
      "[06:45:36] WARNING: C:/Users/Administrator/workspace/xgboost-win64_release_1.6.0/src/learner.cc:627: \n",
      "Parameters: { \"min_samples_split\" } might not be used.\n",
      "\n",
      "  This could be a false alarm, with some parameters getting used by language bindings but\n",
      "  then being mistakenly passed down to XGBoost core, or some parameter actually being used\n",
      "  but getting flagged wrongly here. Please open an issue if you find any such cases.\n",
      "\n",
      "\n",
      "[06:46:12] WARNING: C:/Users/Administrator/workspace/xgboost-win64_release_1.6.0/src/learner.cc:627: \n",
      "Parameters: { \"min_samples_split\" } might not be used.\n",
      "\n",
      "  This could be a false alarm, with some parameters getting used by language bindings but\n",
      "  then being mistakenly passed down to XGBoost core, or some parameter actually being used\n",
      "  but getting flagged wrongly here. Please open an issue if you find any such cases.\n",
      "\n",
      "\n",
      "[06:46:49] WARNING: C:/Users/Administrator/workspace/xgboost-win64_release_1.6.0/src/learner.cc:627: \n",
      "Parameters: { \"min_samples_split\" } might not be used.\n",
      "\n",
      "  This could be a false alarm, with some parameters getting used by language bindings but\n",
      "  then being mistakenly passed down to XGBoost core, or some parameter actually being used\n",
      "  but getting flagged wrongly here. Please open an issue if you find any such cases.\n",
      "\n",
      "\n",
      "[06:47:25] WARNING: C:/Users/Administrator/workspace/xgboost-win64_release_1.6.0/src/learner.cc:627: \n",
      "Parameters: { \"min_samples_split\" } might not be used.\n",
      "\n",
      "  This could be a false alarm, with some parameters getting used by language bindings but\n",
      "  then being mistakenly passed down to XGBoost core, or some parameter actually being used\n",
      "  but getting flagged wrongly here. Please open an issue if you find any such cases.\n",
      "\n",
      "\n",
      "[06:48:01] WARNING: C:/Users/Administrator/workspace/xgboost-win64_release_1.6.0/src/learner.cc:627: \n",
      "Parameters: { \"min_samples_split\" } might not be used.\n",
      "\n",
      "  This could be a false alarm, with some parameters getting used by language bindings but\n",
      "  then being mistakenly passed down to XGBoost core, or some parameter actually being used\n",
      "  but getting flagged wrongly here. Please open an issue if you find any such cases.\n",
      "\n",
      "\n"
     ]
    },
    {
     "ename": "TypeError",
     "evalue": "'str' object is not callable",
     "output_type": "error",
     "traceback": [
      "\u001b[1;31m---------------------------------------------------------------------------\u001b[0m",
      "\u001b[1;31mTypeError\u001b[0m                                 Traceback (most recent call last)",
      "\u001b[1;32m<ipython-input-35-8538d2425d29>\u001b[0m in \u001b[0;36m<module>\u001b[1;34m\u001b[0m\n\u001b[0;32m      1\u001b[0m \u001b[0mscores\u001b[0m \u001b[1;33m=\u001b[0m \u001b[0mcross_val_score\u001b[0m\u001b[1;33m(\u001b[0m\u001b[0mxgb_tuned\u001b[0m\u001b[1;33m,\u001b[0m \u001b[0mX\u001b[0m\u001b[1;33m.\u001b[0m\u001b[0mdrop\u001b[0m\u001b[1;33m(\u001b[0m\u001b[1;33m[\u001b[0m\u001b[1;34m\"RowConfirmation\"\u001b[0m\u001b[1;33m]\u001b[0m\u001b[1;33m,\u001b[0m\u001b[0maxis\u001b[0m\u001b[1;33m=\u001b[0m\u001b[1;36m1\u001b[0m\u001b[1;33m)\u001b[0m\u001b[1;33m,\u001b[0m \u001b[0mX\u001b[0m\u001b[1;33m[\u001b[0m\u001b[1;34m\"RowConfirmation\"\u001b[0m\u001b[1;33m]\u001b[0m\u001b[1;33m,\u001b[0m \u001b[0mcv\u001b[0m\u001b[1;33m=\u001b[0m\u001b[1;36m10\u001b[0m\u001b[1;33m,\u001b[0m \u001b[0mscoring\u001b[0m\u001b[1;33m=\u001b[0m\u001b[1;34m'accuracy'\u001b[0m\u001b[1;33m)\u001b[0m\u001b[1;33m\u001b[0m\u001b[1;33m\u001b[0m\u001b[0m\n\u001b[1;32m----> 2\u001b[1;33m \u001b[0mclassification_report\u001b[0m \u001b[1;33m=\u001b[0m \u001b[0mclassification_report\u001b[0m\u001b[1;33m(\u001b[0m\u001b[0my_test\u001b[0m\u001b[1;33m,\u001b[0m \u001b[0my_pred\u001b[0m\u001b[1;33m)\u001b[0m\u001b[1;33m\u001b[0m\u001b[1;33m\u001b[0m\u001b[0m\n\u001b[0m\u001b[0;32m      3\u001b[0m \u001b[0mMSE\u001b[0m\u001b[1;33m=\u001b[0m\u001b[0mnp\u001b[0m\u001b[1;33m.\u001b[0m\u001b[0msqrt\u001b[0m\u001b[1;33m(\u001b[0m\u001b[0mmean_squared_error\u001b[0m\u001b[1;33m(\u001b[0m\u001b[0my_test\u001b[0m\u001b[1;33m,\u001b[0m \u001b[0my_pred\u001b[0m\u001b[1;33m)\u001b[0m\u001b[1;33m)\u001b[0m\u001b[1;33m\u001b[0m\u001b[1;33m\u001b[0m\u001b[0m\n",
      "\u001b[1;31mTypeError\u001b[0m: 'str' object is not callable"
     ]
    }
   ],
   "source": [
    "scores = cross_val_score(xgb_tuned, X.drop([\"RowConfirmation\"],axis=1), X[\"RowConfirmation\"], cv=10, scoring='accuracy')\n",
    "classification_report = classification_report(y_test, y_pred)\n",
    "MSE=np.sqrt(mean_squared_error(y_test, y_pred))"
   ]
  },
  {
   "cell_type": "code",
   "execution_count": null,
   "id": "3ea6cab9-ded4-497a-ae3c-71cc9c34c65e",
   "metadata": {},
   "outputs": [],
   "source": [
    "print(\"Score:     \",scores.mean())\n",
    "print(\"MSE:     \", MSE)\n",
    "print(\"Accuracy:  \",acc)\n",
    "print(\"\\nClassification Report:\\n\", classification_report)"
   ]
  },
  {
   "cell_type": "code",
   "execution_count": null,
   "id": "b0d2eadc-e7a7-4639-968d-6bbbe608d4ed",
   "metadata": {},
   "outputs": [],
   "source": []
  },
  {
   "cell_type": "code",
   "execution_count": null,
   "id": "086fb15b-b8e5-4599-a9d1-0ce612271f1e",
   "metadata": {},
   "outputs": [],
   "source": []
  },
  {
   "cell_type": "code",
   "execution_count": null,
   "id": "9705dbea-492d-4c4b-98ff-46b752174c0b",
   "metadata": {},
   "outputs": [],
   "source": []
  },
  {
   "cell_type": "code",
   "execution_count": null,
   "id": "4638afc0-35c0-4c88-b8f5-73511091d1ab",
   "metadata": {},
   "outputs": [],
   "source": []
  }
 ],
 "metadata": {
  "kernelspec": {
   "display_name": "Python 3 (ipykernel)",
   "language": "python",
   "name": "python3"
  },
  "language_info": {
   "codemirror_mode": {
    "name": "ipython",
    "version": 3
   },
   "file_extension": ".py",
   "mimetype": "text/x-python",
   "name": "python",
   "nbconvert_exporter": "python",
   "pygments_lexer": "ipython3",
   "version": "3.9.7"
  }
 },
 "nbformat": 4,
 "nbformat_minor": 5
}
