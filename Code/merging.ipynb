{
 "cells": [
  {
   "cell_type": "code",
   "execution_count": 1,
   "id": "2071398a-c088-46fd-8e66-adeb5b596155",
   "metadata": {},
   "outputs": [],
   "source": [
    "import pandas as pd\n",
    "import random\n",
    "import matplotlib.pyplot as plt\n",
    "import seaborn as sns\n",
    "import numpy as np\n",
    "pd.options.mode.chained_assignment = None  # default='warn'"
   ]
  },
  {
   "cell_type": "code",
   "execution_count": 2,
   "id": "6c4ab2bf-9084-4eed-8df0-9134fca24a76",
   "metadata": {},
   "outputs": [],
   "source": [
    "doc = pd.read_csv(\"Document.csv\")"
   ]
  },
  {
   "cell_type": "code",
   "execution_count": 3,
   "id": "2319857b-d6a8-4abb-acdd-e1a261735011",
   "metadata": {},
   "outputs": [],
   "source": [
    "dimInfo = pd.read_csv(\"DimMeasurements.csv\")"
   ]
  },
  {
   "cell_type": "code",
   "execution_count": 4,
   "id": "eaf8aad2-0305-4338-a48a-9b724276db9e",
   "metadata": {},
   "outputs": [],
   "source": [
    "rows = pd.read_csv(\"DimRows.csv\")"
   ]
  },
  {
   "cell_type": "markdown",
   "id": "af3fd804-1bb9-4658-94ec-65433f887d63",
   "metadata": {
    "tags": []
   },
   "source": [
    "# Data Description"
   ]
  },
  {
   "cell_type": "markdown",
   "id": "569c2587-27cd-42da-9355-0dc78c2cb729",
   "metadata": {
    "tags": []
   },
   "source": [
    "## doc"
   ]
  },
  {
   "cell_type": "code",
   "execution_count": 5,
   "id": "348bfb36-ac48-40d4-9e0c-1ca575867a89",
   "metadata": {},
   "outputs": [
    {
     "data": {
      "text/html": [
       "<div>\n",
       "<style scoped>\n",
       "    .dataframe tbody tr th:only-of-type {\n",
       "        vertical-align: middle;\n",
       "    }\n",
       "\n",
       "    .dataframe tbody tr th {\n",
       "        vertical-align: top;\n",
       "    }\n",
       "\n",
       "    .dataframe thead th {\n",
       "        text-align: right;\n",
       "    }\n",
       "</style>\n",
       "<table border=\"1\" class=\"dataframe\">\n",
       "  <thead>\n",
       "    <tr style=\"text-align: right;\">\n",
       "      <th></th>\n",
       "      <th>Id</th>\n",
       "      <th>DateAndTime</th>\n",
       "      <th>documentType</th>\n",
       "      <th>PartName</th>\n",
       "      <th>RevisionNo</th>\n",
       "      <th>SerialNo</th>\n",
       "      <th>StatsCount</th>\n",
       "      <th>ReportNo</th>\n",
       "      <th>OperationNo</th>\n",
       "      <th>ResRevNo</th>\n",
       "      <th>...</th>\n",
       "      <th>Operator</th>\n",
       "      <th>Measurer</th>\n",
       "      <th>Shift</th>\n",
       "      <th>StandNo</th>\n",
       "      <th>MaterialCode</th>\n",
       "      <th>MeasurementPlan</th>\n",
       "      <th>Order</th>\n",
       "      <th>DrawingNo</th>\n",
       "      <th>CreatedDate</th>\n",
       "      <th>UpdatedDate</th>\n",
       "    </tr>\n",
       "  </thead>\n",
       "  <tbody>\n",
       "    <tr>\n",
       "      <th>0</th>\n",
       "      <td>e49ccee3-dc5b-4374-a333-fa819bc44cb7</td>\n",
       "      <td>2021-12-01 17:44:34+03</td>\n",
       "      <td>xls</td>\n",
       "      <td>B 5001</td>\n",
       "      <td>NaN</td>\n",
       "      <td>NaN</td>\n",
       "      <td>NaN</td>\n",
       "      <td>NaN</td>\n",
       "      <td>{}</td>\n",
       "      <td>{}</td>\n",
       "      <td>...</td>\n",
       "      <td>Master</td>\n",
       "      <td>NaN</td>\n",
       "      <td>NaN</td>\n",
       "      <td>NaN</td>\n",
       "      <td>NaN</td>\n",
       "      <td>911 906 017 5 TP CAP59 --X ---</td>\n",
       "      <td>C 133 T21-49-1-19</td>\n",
       "      <td>911 9060 175</td>\n",
       "      <td>44:03.4</td>\n",
       "      <td>44:03.4</td>\n",
       "    </tr>\n",
       "    <tr>\n",
       "      <th>1</th>\n",
       "      <td>f9772ccb-d747-4156-aa85-ac1b9d6e2152</td>\n",
       "      <td>2021-12-01 17:44:34+03</td>\n",
       "      <td>xls</td>\n",
       "      <td>B 5001</td>\n",
       "      <td>NaN</td>\n",
       "      <td>NaN</td>\n",
       "      <td>NaN</td>\n",
       "      <td>NaN</td>\n",
       "      <td>{}</td>\n",
       "      <td>{}</td>\n",
       "      <td>...</td>\n",
       "      <td>Master</td>\n",
       "      <td>NaN</td>\n",
       "      <td>NaN</td>\n",
       "      <td>NaN</td>\n",
       "      <td>NaN</td>\n",
       "      <td>911 906 017 5 TP CAP59 --X ---</td>\n",
       "      <td>C 133 T21-49-1-19</td>\n",
       "      <td>911 9060 175</td>\n",
       "      <td>54:34.0</td>\n",
       "      <td>54:34.0</td>\n",
       "    </tr>\n",
       "  </tbody>\n",
       "</table>\n",
       "<p>2 rows × 25 columns</p>\n",
       "</div>"
      ],
      "text/plain": [
       "                                     Id             DateAndTime documentType  \\\n",
       "0  e49ccee3-dc5b-4374-a333-fa819bc44cb7  2021-12-01 17:44:34+03          xls   \n",
       "1  f9772ccb-d747-4156-aa85-ac1b9d6e2152  2021-12-01 17:44:34+03          xls   \n",
       "\n",
       "  PartName  RevisionNo  SerialNo  StatsCount  ReportNo OperationNo ResRevNo  \\\n",
       "0   B 5001         NaN       NaN         NaN       NaN          {}       {}   \n",
       "1   B 5001         NaN       NaN         NaN       NaN          {}       {}   \n",
       "\n",
       "   ...  Operator Measurer Shift  StandNo  MaterialCode  \\\n",
       "0  ...    Master      NaN   NaN      NaN           NaN   \n",
       "1  ...    Master      NaN   NaN      NaN           NaN   \n",
       "\n",
       "                  MeasurementPlan              Order     DrawingNo  \\\n",
       "0  911 906 017 5 TP CAP59 --X ---  C 133 T21-49-1-19  911 9060 175   \n",
       "1  911 906 017 5 TP CAP59 --X ---  C 133 T21-49-1-19  911 9060 175   \n",
       "\n",
       "   CreatedDate  UpdatedDate  \n",
       "0      44:03.4      44:03.4  \n",
       "1      54:34.0      54:34.0  \n",
       "\n",
       "[2 rows x 25 columns]"
      ]
     },
     "execution_count": 5,
     "metadata": {},
     "output_type": "execute_result"
    }
   ],
   "source": [
    "doc.head(2)"
   ]
  },
  {
   "cell_type": "code",
   "execution_count": 6,
   "id": "a5c4ef24-c104-4038-85a6-adbeb24b6ab6",
   "metadata": {},
   "outputs": [],
   "source": [
    "doc.Id = pd.Categorical(doc.Id)\n",
    "doc.DateAndTime = pd.Categorical(doc.DateAndTime)\n",
    "doc.documentType = pd.Categorical(doc.documentType)\n",
    "doc.PartName = pd.Categorical(doc.PartName)\n",
    "doc.Instructions = pd.Categorical(doc.Instructions)\n",
    "doc.BenchName = pd.Categorical(doc.BenchName)\n",
    "doc.Confirmation = pd.Categorical(doc.Confirmation)\n",
    "doc.Operator = pd.Categorical(doc.Operator)\n",
    "doc.MeasurementPlan = pd.Categorical(doc.MeasurementPlan)\n",
    "doc.Order = pd.Categorical(doc.Order)\n",
    "doc.DrawingNo = pd.Categorical(doc.DrawingNo)\n",
    "doc.CreatedDate = pd.Categorical(doc.CreatedDate)\n",
    "doc.UpdatedDate = pd.Categorical(doc.UpdatedDate)"
   ]
  },
  {
   "cell_type": "code",
   "execution_count": 7,
   "id": "6646bede-53f7-4830-9115-f47374934a57",
   "metadata": {},
   "outputs": [],
   "source": [
    "##DROP --> RevisionNo-SerialNo-StatsCount-ReportNo-OperationNo-ResRevNo-Cmm-ConfirmingUserId-Measurer-Shift-StandNo-MaterialCode"
   ]
  },
  {
   "cell_type": "markdown",
   "id": "a6376640-4184-4eac-a88f-7e6e851ac430",
   "metadata": {
    "tags": []
   },
   "source": [
    "## dimMeasurement"
   ]
  },
  {
   "cell_type": "code",
   "execution_count": 8,
   "id": "ca8c6831-ecbe-4abe-be50-198dc1cdf589",
   "metadata": {},
   "outputs": [
    {
     "data": {
      "text/html": [
       "<div>\n",
       "<style scoped>\n",
       "    .dataframe tbody tr th:only-of-type {\n",
       "        vertical-align: middle;\n",
       "    }\n",
       "\n",
       "    .dataframe tbody tr th {\n",
       "        vertical-align: top;\n",
       "    }\n",
       "\n",
       "    .dataframe thead th {\n",
       "        text-align: right;\n",
       "    }\n",
       "</style>\n",
       "<table border=\"1\" class=\"dataframe\">\n",
       "  <thead>\n",
       "    <tr style=\"text-align: right;\">\n",
       "      <th></th>\n",
       "      <th>Id</th>\n",
       "      <th>DocumentId</th>\n",
       "      <th>DimInfo</th>\n",
       "      <th>CreatedDate</th>\n",
       "      <th>UpdatedDate</th>\n",
       "    </tr>\n",
       "  </thead>\n",
       "  <tbody>\n",
       "    <tr>\n",
       "      <th>0</th>\n",
       "      <td>55d91a3d-f663-4a8a-8a2f-90cc327f25aa</td>\n",
       "      <td>e49ccee3-dc5b-4374-a333-fa819bc44cb7</td>\n",
       "      <td>17-Q 90 SALGI PROB GRI</td>\n",
       "      <td>2022-01-18 09:44:03.38012</td>\n",
       "      <td>2022-01-18 09:44:03.38012</td>\n",
       "    </tr>\n",
       "    <tr>\n",
       "      <th>1</th>\n",
       "      <td>5e75e754-a29d-49a2-841c-3eb8aa0493a9</td>\n",
       "      <td>e49ccee3-dc5b-4374-a333-fa819bc44cb7</td>\n",
       "      <td>22 ic duzlem SALGI GRI PROB</td>\n",
       "      <td>2022-01-18 09:44:03.38012</td>\n",
       "      <td>2022-01-18 09:44:03.38012</td>\n",
       "    </tr>\n",
       "  </tbody>\n",
       "</table>\n",
       "</div>"
      ],
      "text/plain": [
       "                                     Id                            DocumentId  \\\n",
       "0  55d91a3d-f663-4a8a-8a2f-90cc327f25aa  e49ccee3-dc5b-4374-a333-fa819bc44cb7   \n",
       "1  5e75e754-a29d-49a2-841c-3eb8aa0493a9  e49ccee3-dc5b-4374-a333-fa819bc44cb7   \n",
       "\n",
       "                       DimInfo                CreatedDate  \\\n",
       "0       17-Q 90 SALGI PROB GRI  2022-01-18 09:44:03.38012   \n",
       "1  22 ic duzlem SALGI GRI PROB  2022-01-18 09:44:03.38012   \n",
       "\n",
       "                 UpdatedDate  \n",
       "0  2022-01-18 09:44:03.38012  \n",
       "1  2022-01-18 09:44:03.38012  "
      ]
     },
     "execution_count": 8,
     "metadata": {},
     "output_type": "execute_result"
    }
   ],
   "source": [
    "dimInfo.head(2)"
   ]
  },
  {
   "cell_type": "code",
   "execution_count": 9,
   "id": "2f83f31e-7dee-4039-9075-f89b4956e63e",
   "metadata": {},
   "outputs": [],
   "source": [
    "dimInfo.Id = pd.Categorical(dimInfo.Id)\n",
    "dimInfo.DocumentId = pd.Categorical(dimInfo.DocumentId)\n",
    "dimInfo.DimInfo = pd.Categorical(dimInfo.DimInfo)\n",
    "dimInfo.CreatedDate = pd.Categorical(dimInfo.CreatedDate)\n",
    "dimInfo.UpdatedDate = pd.Categorical(dimInfo.UpdatedDate)"
   ]
  },
  {
   "cell_type": "markdown",
   "id": "e712f0ac-2fb1-4bcf-994e-785dcdf72cc9",
   "metadata": {
    "tags": []
   },
   "source": [
    "## rows"
   ]
  },
  {
   "cell_type": "code",
   "execution_count": 10,
   "id": "aac04461-6d42-4ae6-a763-c3bfa4167306",
   "metadata": {
    "tags": []
   },
   "outputs": [
    {
     "data": {
      "text/html": [
       "<div>\n",
       "<style scoped>\n",
       "    .dataframe tbody tr th:only-of-type {\n",
       "        vertical-align: middle;\n",
       "    }\n",
       "\n",
       "    .dataframe tbody tr th {\n",
       "        vertical-align: top;\n",
       "    }\n",
       "\n",
       "    .dataframe thead th {\n",
       "        text-align: right;\n",
       "    }\n",
       "</style>\n",
       "<table border=\"1\" class=\"dataframe\">\n",
       "  <thead>\n",
       "    <tr style=\"text-align: right;\">\n",
       "      <th></th>\n",
       "      <th>Id</th>\n",
       "      <th>DimMeasurementId</th>\n",
       "      <th>Axis</th>\n",
       "      <th>Measurement</th>\n",
       "      <th>Nominal</th>\n",
       "      <th>PositiveTolerance</th>\n",
       "      <th>NegativeTolerance</th>\n",
       "      <th>Bonus</th>\n",
       "      <th>Deviation</th>\n",
       "      <th>OutTolerance</th>\n",
       "      <th>...</th>\n",
       "      <th>NatUpperTolId</th>\n",
       "      <th>NatLowerTolId</th>\n",
       "      <th>DecimalPlaces</th>\n",
       "      <th>FeaturePosX</th>\n",
       "      <th>FeaturePosY</th>\n",
       "      <th>FeaturePosZ</th>\n",
       "      <th>Unit</th>\n",
       "      <th>Confirmation</th>\n",
       "      <th>CreatedDate</th>\n",
       "      <th>UpdatedDate</th>\n",
       "    </tr>\n",
       "  </thead>\n",
       "  <tbody>\n",
       "    <tr>\n",
       "      <th>0</th>\n",
       "      <td>153f71ce-1716-4d44-b7e0-b21e614b4594</td>\n",
       "      <td>fb59d7d6-e70c-4e3d-aee7-1946a3bd315f</td>\n",
       "      <td>NaN</td>\n",
       "      <td>0.0608998</td>\n",
       "      <td>0.0</td>\n",
       "      <td>0.050</td>\n",
       "      <td>0.0</td>\n",
       "      <td>NaN</td>\n",
       "      <td>0.060900</td>\n",
       "      <td>0.010900</td>\n",
       "      <td>...</td>\n",
       "      <td>NaN</td>\n",
       "      <td>NaN</td>\n",
       "      <td>NaN</td>\n",
       "      <td>NaN</td>\n",
       "      <td>NaN</td>\n",
       "      <td>NaN</td>\n",
       "      <td>NaN</td>\n",
       "      <td>2</td>\n",
       "      <td>2022-01-18 09:44:03.38012</td>\n",
       "      <td>2022-01-18 09:44:03.38012</td>\n",
       "    </tr>\n",
       "    <tr>\n",
       "      <th>1</th>\n",
       "      <td>2d27557f-ded9-4933-8282-e7b4c62d000f</td>\n",
       "      <td>55d91a3d-f663-4a8a-8a2f-90cc327f25aa</td>\n",
       "      <td>NaN</td>\n",
       "      <td>0.0151148</td>\n",
       "      <td>0.0</td>\n",
       "      <td>0.015</td>\n",
       "      <td>0.0</td>\n",
       "      <td>NaN</td>\n",
       "      <td>0.015115</td>\n",
       "      <td>0.000115</td>\n",
       "      <td>...</td>\n",
       "      <td>NaN</td>\n",
       "      <td>NaN</td>\n",
       "      <td>NaN</td>\n",
       "      <td>NaN</td>\n",
       "      <td>NaN</td>\n",
       "      <td>NaN</td>\n",
       "      <td>NaN</td>\n",
       "      <td>1</td>\n",
       "      <td>2022-01-18 09:44:03.38012</td>\n",
       "      <td>2022-01-18 09:44:03.38012</td>\n",
       "    </tr>\n",
       "  </tbody>\n",
       "</table>\n",
       "<p>2 rows × 43 columns</p>\n",
       "</div>"
      ],
      "text/plain": [
       "                                     Id                      DimMeasurementId  \\\n",
       "0  153f71ce-1716-4d44-b7e0-b21e614b4594  fb59d7d6-e70c-4e3d-aee7-1946a3bd315f   \n",
       "1  2d27557f-ded9-4933-8282-e7b4c62d000f  55d91a3d-f663-4a8a-8a2f-90cc327f25aa   \n",
       "\n",
       "   Axis Measurement  Nominal  PositiveTolerance  NegativeTolerance  Bonus  \\\n",
       "0   NaN   0.0608998      0.0              0.050                0.0    NaN   \n",
       "1   NaN   0.0151148      0.0              0.015                0.0    NaN   \n",
       "\n",
       "   Deviation  OutTolerance  ... NatUpperTolId  NatLowerTolId  DecimalPlaces  \\\n",
       "0   0.060900      0.010900  ...           NaN            NaN            NaN   \n",
       "1   0.015115      0.000115  ...           NaN            NaN            NaN   \n",
       "\n",
       "   FeaturePosX  FeaturePosY  FeaturePosZ  Unit  Confirmation  \\\n",
       "0          NaN          NaN          NaN   NaN             2   \n",
       "1          NaN          NaN          NaN   NaN             1   \n",
       "\n",
       "                 CreatedDate                UpdatedDate  \n",
       "0  2022-01-18 09:44:03.38012  2022-01-18 09:44:03.38012  \n",
       "1  2022-01-18 09:44:03.38012  2022-01-18 09:44:03.38012  \n",
       "\n",
       "[2 rows x 43 columns]"
      ]
     },
     "execution_count": 10,
     "metadata": {},
     "output_type": "execute_result"
    }
   ],
   "source": [
    "rows.head(2)"
   ]
  },
  {
   "cell_type": "code",
   "execution_count": 11,
   "id": "32cc0e95-a28d-4d1a-9b6c-73e63ff9427b",
   "metadata": {},
   "outputs": [],
   "source": [
    "#dolu olanlar->Id-DimMeasurementId-Measurement-Nominal-PositiveTolerance-NegativeTolerance-Deviation-OutTolerance-OutToleranceBar-Confirmation-CreatedDate-UpdatedDate"
   ]
  },
  {
   "cell_type": "markdown",
   "id": "3e7f78d1-de75-4f20-9202-7ebeb15e2819",
   "metadata": {},
   "source": [
    "### Numerical data"
   ]
  },
  {
   "cell_type": "code",
   "execution_count": 12,
   "id": "f70408b8-a746-4ce5-a55f-bb2fe6e6d1c7",
   "metadata": {},
   "outputs": [],
   "source": [
    "list=[]\n",
    "for i in range(rows.index.size):\n",
    "    list.insert(i,(''.join(rows.loc[i].Measurement.split('.')[0:-1])) + '.'+ rows.loc[i].Measurement.split('.')[-1])"
   ]
  },
  {
   "cell_type": "code",
   "execution_count": 13,
   "id": "d3765a96-fe89-495b-95b4-03f25ca8a43e",
   "metadata": {},
   "outputs": [],
   "source": [
    "rows.Measurement= list.copy()"
   ]
  },
  {
   "cell_type": "code",
   "execution_count": 14,
   "id": "10e28f6c-2d51-45ce-a717-90842208250b",
   "metadata": {},
   "outputs": [],
   "source": [
    "rows.Confirmation = pd.Categorical(rows.Confirmation)\n",
    "rows.Measurement = rows.Measurement.astype(\"float64\")"
   ]
  },
  {
   "cell_type": "code",
   "execution_count": 15,
   "id": "bbf6d71c-c0bf-4b39-913f-ae2c183cdd84",
   "metadata": {},
   "outputs": [
    {
     "data": {
      "text/html": [
       "<div>\n",
       "<style scoped>\n",
       "    .dataframe tbody tr th:only-of-type {\n",
       "        vertical-align: middle;\n",
       "    }\n",
       "\n",
       "    .dataframe tbody tr th {\n",
       "        vertical-align: top;\n",
       "    }\n",
       "\n",
       "    .dataframe thead th {\n",
       "        text-align: right;\n",
       "    }\n",
       "</style>\n",
       "<table border=\"1\" class=\"dataframe\">\n",
       "  <thead>\n",
       "    <tr style=\"text-align: right;\">\n",
       "      <th></th>\n",
       "      <th>Id</th>\n",
       "      <th>DimMeasurementId</th>\n",
       "      <th>Axis</th>\n",
       "      <th>Measurement</th>\n",
       "      <th>Nominal</th>\n",
       "      <th>PositiveTolerance</th>\n",
       "      <th>NegativeTolerance</th>\n",
       "      <th>Bonus</th>\n",
       "      <th>Deviation</th>\n",
       "      <th>OutTolerance</th>\n",
       "      <th>...</th>\n",
       "      <th>NatUpperTolId</th>\n",
       "      <th>NatLowerTolId</th>\n",
       "      <th>DecimalPlaces</th>\n",
       "      <th>FeaturePosX</th>\n",
       "      <th>FeaturePosY</th>\n",
       "      <th>FeaturePosZ</th>\n",
       "      <th>Unit</th>\n",
       "      <th>Confirmation</th>\n",
       "      <th>CreatedDate</th>\n",
       "      <th>UpdatedDate</th>\n",
       "    </tr>\n",
       "  </thead>\n",
       "  <tbody>\n",
       "    <tr>\n",
       "      <th>0</th>\n",
       "      <td>153f71ce-1716-4d44-b7e0-b21e614b4594</td>\n",
       "      <td>fb59d7d6-e70c-4e3d-aee7-1946a3bd315f</td>\n",
       "      <td>NaN</td>\n",
       "      <td>0.060900</td>\n",
       "      <td>0.0</td>\n",
       "      <td>0.050</td>\n",
       "      <td>0.0</td>\n",
       "      <td>NaN</td>\n",
       "      <td>0.060900</td>\n",
       "      <td>0.010900</td>\n",
       "      <td>...</td>\n",
       "      <td>NaN</td>\n",
       "      <td>NaN</td>\n",
       "      <td>NaN</td>\n",
       "      <td>NaN</td>\n",
       "      <td>NaN</td>\n",
       "      <td>NaN</td>\n",
       "      <td>NaN</td>\n",
       "      <td>2</td>\n",
       "      <td>2022-01-18 09:44:03.38012</td>\n",
       "      <td>2022-01-18 09:44:03.38012</td>\n",
       "    </tr>\n",
       "    <tr>\n",
       "      <th>1</th>\n",
       "      <td>2d27557f-ded9-4933-8282-e7b4c62d000f</td>\n",
       "      <td>55d91a3d-f663-4a8a-8a2f-90cc327f25aa</td>\n",
       "      <td>NaN</td>\n",
       "      <td>0.015115</td>\n",
       "      <td>0.0</td>\n",
       "      <td>0.015</td>\n",
       "      <td>0.0</td>\n",
       "      <td>NaN</td>\n",
       "      <td>0.015115</td>\n",
       "      <td>0.000115</td>\n",
       "      <td>...</td>\n",
       "      <td>NaN</td>\n",
       "      <td>NaN</td>\n",
       "      <td>NaN</td>\n",
       "      <td>NaN</td>\n",
       "      <td>NaN</td>\n",
       "      <td>NaN</td>\n",
       "      <td>NaN</td>\n",
       "      <td>1</td>\n",
       "      <td>2022-01-18 09:44:03.38012</td>\n",
       "      <td>2022-01-18 09:44:03.38012</td>\n",
       "    </tr>\n",
       "  </tbody>\n",
       "</table>\n",
       "<p>2 rows × 43 columns</p>\n",
       "</div>"
      ],
      "text/plain": [
       "                                     Id                      DimMeasurementId  \\\n",
       "0  153f71ce-1716-4d44-b7e0-b21e614b4594  fb59d7d6-e70c-4e3d-aee7-1946a3bd315f   \n",
       "1  2d27557f-ded9-4933-8282-e7b4c62d000f  55d91a3d-f663-4a8a-8a2f-90cc327f25aa   \n",
       "\n",
       "   Axis  Measurement  Nominal  PositiveTolerance  NegativeTolerance  Bonus  \\\n",
       "0   NaN     0.060900      0.0              0.050                0.0    NaN   \n",
       "1   NaN     0.015115      0.0              0.015                0.0    NaN   \n",
       "\n",
       "   Deviation  OutTolerance  ... NatUpperTolId  NatLowerTolId  DecimalPlaces  \\\n",
       "0   0.060900      0.010900  ...           NaN            NaN            NaN   \n",
       "1   0.015115      0.000115  ...           NaN            NaN            NaN   \n",
       "\n",
       "   FeaturePosX  FeaturePosY  FeaturePosZ  Unit  Confirmation  \\\n",
       "0          NaN          NaN          NaN   NaN             2   \n",
       "1          NaN          NaN          NaN   NaN             1   \n",
       "\n",
       "                 CreatedDate                UpdatedDate  \n",
       "0  2022-01-18 09:44:03.38012  2022-01-18 09:44:03.38012  \n",
       "1  2022-01-18 09:44:03.38012  2022-01-18 09:44:03.38012  \n",
       "\n",
       "[2 rows x 43 columns]"
      ]
     },
     "execution_count": 15,
     "metadata": {},
     "output_type": "execute_result"
    }
   ],
   "source": [
    "rows.head(2)"
   ]
  },
  {
   "cell_type": "code",
   "execution_count": 16,
   "id": "4049ccdc-9ffd-4e6f-a132-3aaf5a2874ba",
   "metadata": {},
   "outputs": [],
   "source": [
    "rows_num = rows.select_dtypes(include=[\"float64\", \"int64\"])"
   ]
  },
  {
   "cell_type": "markdown",
   "id": "bf88da67-9e2d-4bad-bc51-92813a851ee5",
   "metadata": {
    "tags": []
   },
   "source": [
    "# Cleaning Unnecessary/Null Columns"
   ]
  },
  {
   "cell_type": "markdown",
   "id": "2af9eaa5-4c58-41f4-8c86-920638943c80",
   "metadata": {
    "tags": []
   },
   "source": [
    "## doc Table"
   ]
  },
  {
   "cell_type": "code",
   "execution_count": 17,
   "id": "f0794af9-52cc-4085-96c4-a759bf869662",
   "metadata": {},
   "outputs": [],
   "source": [
    "temp_doc = doc.copy()"
   ]
  },
  {
   "cell_type": "code",
   "execution_count": 18,
   "id": "43d74e29-edff-49b8-988c-b7c4416935fd",
   "metadata": {},
   "outputs": [
    {
     "data": {
      "text/html": [
       "<div>\n",
       "<style scoped>\n",
       "    .dataframe tbody tr th:only-of-type {\n",
       "        vertical-align: middle;\n",
       "    }\n",
       "\n",
       "    .dataframe tbody tr th {\n",
       "        vertical-align: top;\n",
       "    }\n",
       "\n",
       "    .dataframe thead th {\n",
       "        text-align: right;\n",
       "    }\n",
       "</style>\n",
       "<table border=\"1\" class=\"dataframe\">\n",
       "  <thead>\n",
       "    <tr style=\"text-align: right;\">\n",
       "      <th></th>\n",
       "      <th>Id</th>\n",
       "      <th>DateAndTime</th>\n",
       "      <th>documentType</th>\n",
       "      <th>PartName</th>\n",
       "      <th>RevisionNo</th>\n",
       "      <th>SerialNo</th>\n",
       "      <th>StatsCount</th>\n",
       "      <th>ReportNo</th>\n",
       "      <th>OperationNo</th>\n",
       "      <th>ResRevNo</th>\n",
       "      <th>...</th>\n",
       "      <th>Operator</th>\n",
       "      <th>Measurer</th>\n",
       "      <th>Shift</th>\n",
       "      <th>StandNo</th>\n",
       "      <th>MaterialCode</th>\n",
       "      <th>MeasurementPlan</th>\n",
       "      <th>Order</th>\n",
       "      <th>DrawingNo</th>\n",
       "      <th>CreatedDate</th>\n",
       "      <th>UpdatedDate</th>\n",
       "    </tr>\n",
       "  </thead>\n",
       "  <tbody>\n",
       "    <tr>\n",
       "      <th>0</th>\n",
       "      <td>e49ccee3-dc5b-4374-a333-fa819bc44cb7</td>\n",
       "      <td>2021-12-01 17:44:34+03</td>\n",
       "      <td>xls</td>\n",
       "      <td>B 5001</td>\n",
       "      <td>NaN</td>\n",
       "      <td>NaN</td>\n",
       "      <td>NaN</td>\n",
       "      <td>NaN</td>\n",
       "      <td>{}</td>\n",
       "      <td>{}</td>\n",
       "      <td>...</td>\n",
       "      <td>Master</td>\n",
       "      <td>NaN</td>\n",
       "      <td>NaN</td>\n",
       "      <td>NaN</td>\n",
       "      <td>NaN</td>\n",
       "      <td>911 906 017 5 TP CAP59 --X ---</td>\n",
       "      <td>C 133 T21-49-1-19</td>\n",
       "      <td>911 9060 175</td>\n",
       "      <td>44:03.4</td>\n",
       "      <td>44:03.4</td>\n",
       "    </tr>\n",
       "    <tr>\n",
       "      <th>1</th>\n",
       "      <td>f9772ccb-d747-4156-aa85-ac1b9d6e2152</td>\n",
       "      <td>2021-12-01 17:44:34+03</td>\n",
       "      <td>xls</td>\n",
       "      <td>B 5001</td>\n",
       "      <td>NaN</td>\n",
       "      <td>NaN</td>\n",
       "      <td>NaN</td>\n",
       "      <td>NaN</td>\n",
       "      <td>{}</td>\n",
       "      <td>{}</td>\n",
       "      <td>...</td>\n",
       "      <td>Master</td>\n",
       "      <td>NaN</td>\n",
       "      <td>NaN</td>\n",
       "      <td>NaN</td>\n",
       "      <td>NaN</td>\n",
       "      <td>911 906 017 5 TP CAP59 --X ---</td>\n",
       "      <td>C 133 T21-49-1-19</td>\n",
       "      <td>911 9060 175</td>\n",
       "      <td>54:34.0</td>\n",
       "      <td>54:34.0</td>\n",
       "    </tr>\n",
       "    <tr>\n",
       "      <th>2</th>\n",
       "      <td>5fbb77fa-834d-4e2c-a8c3-14f697eb0500</td>\n",
       "      <td>2022-01-03 19:38:58+03</td>\n",
       "      <td>xls</td>\n",
       "      <td>B 5002</td>\n",
       "      <td>NaN</td>\n",
       "      <td>NaN</td>\n",
       "      <td>NaN</td>\n",
       "      <td>NaN</td>\n",
       "      <td>{}</td>\n",
       "      <td>{}</td>\n",
       "      <td>...</td>\n",
       "      <td>Master</td>\n",
       "      <td>NaN</td>\n",
       "      <td>NaN</td>\n",
       "      <td>NaN</td>\n",
       "      <td>NaN</td>\n",
       "      <td>UZUN KISITLANMIS 4123520165---2</td>\n",
       "      <td>C 57 T22-2-3-10</td>\n",
       "      <td>412 3520 165</td>\n",
       "      <td>59:18.4</td>\n",
       "      <td>59:18.4</td>\n",
       "    </tr>\n",
       "  </tbody>\n",
       "</table>\n",
       "<p>3 rows × 25 columns</p>\n",
       "</div>"
      ],
      "text/plain": [
       "                                     Id             DateAndTime documentType  \\\n",
       "0  e49ccee3-dc5b-4374-a333-fa819bc44cb7  2021-12-01 17:44:34+03          xls   \n",
       "1  f9772ccb-d747-4156-aa85-ac1b9d6e2152  2021-12-01 17:44:34+03          xls   \n",
       "2  5fbb77fa-834d-4e2c-a8c3-14f697eb0500  2022-01-03 19:38:58+03          xls   \n",
       "\n",
       "  PartName  RevisionNo  SerialNo  StatsCount  ReportNo OperationNo ResRevNo  \\\n",
       "0   B 5001         NaN       NaN         NaN       NaN          {}       {}   \n",
       "1   B 5001         NaN       NaN         NaN       NaN          {}       {}   \n",
       "2   B 5002         NaN       NaN         NaN       NaN          {}       {}   \n",
       "\n",
       "   ...  Operator Measurer Shift StandNo  MaterialCode  \\\n",
       "0  ...    Master      NaN   NaN     NaN           NaN   \n",
       "1  ...    Master      NaN   NaN     NaN           NaN   \n",
       "2  ...    Master      NaN   NaN     NaN           NaN   \n",
       "\n",
       "                   MeasurementPlan              Order     DrawingNo  \\\n",
       "0   911 906 017 5 TP CAP59 --X ---  C 133 T21-49-1-19  911 9060 175   \n",
       "1   911 906 017 5 TP CAP59 --X ---  C 133 T21-49-1-19  911 9060 175   \n",
       "2  UZUN KISITLANMIS 4123520165---2    C 57 T22-2-3-10  412 3520 165   \n",
       "\n",
       "   CreatedDate  UpdatedDate  \n",
       "0      44:03.4      44:03.4  \n",
       "1      54:34.0      54:34.0  \n",
       "2      59:18.4      59:18.4  \n",
       "\n",
       "[3 rows x 25 columns]"
      ]
     },
     "execution_count": 18,
     "metadata": {},
     "output_type": "execute_result"
    }
   ],
   "source": [
    "temp_doc.head(3)"
   ]
  },
  {
   "cell_type": "code",
   "execution_count": 19,
   "id": "61d7e599-d814-450f-8896-ca33334d40ec",
   "metadata": {},
   "outputs": [],
   "source": [
    "##DROP --> RevisionNo-SerialNo-StatsCount-ReportNo-OperationNo-ResRevNo-Cmm-ConfirmingUserId-Measurer-Shift-StandNo-MaterialCode"
   ]
  },
  {
   "cell_type": "code",
   "execution_count": 20,
   "id": "d3e9d349-dd44-440d-9dd4-53c291dab6a0",
   "metadata": {},
   "outputs": [],
   "source": [
    "#drop null columns\n",
    "temp_doc = temp_doc.drop(columns=['RevisionNo','SerialNo','StatsCount','ReportNo','OperationNo','ResRevNo','Cmm','ConfirmingUserId','Measurer','Shift','StandNo','MaterialCode'],axis=1)"
   ]
  },
  {
   "cell_type": "code",
   "execution_count": 21,
   "id": "0a764ba7-2ba1-4b9c-8074-eaad33bc308f",
   "metadata": {},
   "outputs": [],
   "source": [
    "#drop not unique columns\n",
    "temp_doc = temp_doc.drop(columns=['documentType','Instructions','BenchName','Operator'],axis=1)"
   ]
  },
  {
   "cell_type": "code",
   "execution_count": 22,
   "id": "5b87364d-e3a7-46d6-bfa2-01c65f3d23eb",
   "metadata": {},
   "outputs": [],
   "source": [
    "#drop dublicated columns\n",
    "temp_doc = temp_doc.drop(columns=['UpdatedDate','CreatedDate'],axis=1)"
   ]
  },
  {
   "cell_type": "code",
   "execution_count": 23,
   "id": "ea1eecc4-d2bc-4d07-aa2f-b10da8fa8869",
   "metadata": {},
   "outputs": [],
   "source": [
    "temp_doc.rename(columns={'Id':'DocumentId'\n",
    "                ,'Confirmation': 'DocumentConfirmation'},inplace=True)"
   ]
  },
  {
   "cell_type": "code",
   "execution_count": 24,
   "id": "02d5c74d-1a9a-4026-8adb-6d826a9b278e",
   "metadata": {},
   "outputs": [
    {
     "data": {
      "text/html": [
       "<div>\n",
       "<style scoped>\n",
       "    .dataframe tbody tr th:only-of-type {\n",
       "        vertical-align: middle;\n",
       "    }\n",
       "\n",
       "    .dataframe tbody tr th {\n",
       "        vertical-align: top;\n",
       "    }\n",
       "\n",
       "    .dataframe thead th {\n",
       "        text-align: right;\n",
       "    }\n",
       "</style>\n",
       "<table border=\"1\" class=\"dataframe\">\n",
       "  <thead>\n",
       "    <tr style=\"text-align: right;\">\n",
       "      <th></th>\n",
       "      <th>DocumentId</th>\n",
       "      <th>DateAndTime</th>\n",
       "      <th>PartName</th>\n",
       "      <th>DocumentConfirmation</th>\n",
       "      <th>MeasurementPlan</th>\n",
       "      <th>Order</th>\n",
       "      <th>DrawingNo</th>\n",
       "    </tr>\n",
       "  </thead>\n",
       "  <tbody>\n",
       "    <tr>\n",
       "      <th>0</th>\n",
       "      <td>e49ccee3-dc5b-4374-a333-fa819bc44cb7</td>\n",
       "      <td>2021-12-01 17:44:34+03</td>\n",
       "      <td>B 5001</td>\n",
       "      <td>2</td>\n",
       "      <td>911 906 017 5 TP CAP59 --X ---</td>\n",
       "      <td>C 133 T21-49-1-19</td>\n",
       "      <td>911 9060 175</td>\n",
       "    </tr>\n",
       "    <tr>\n",
       "      <th>1</th>\n",
       "      <td>f9772ccb-d747-4156-aa85-ac1b9d6e2152</td>\n",
       "      <td>2021-12-01 17:44:34+03</td>\n",
       "      <td>B 5001</td>\n",
       "      <td>2</td>\n",
       "      <td>911 906 017 5 TP CAP59 --X ---</td>\n",
       "      <td>C 133 T21-49-1-19</td>\n",
       "      <td>911 9060 175</td>\n",
       "    </tr>\n",
       "  </tbody>\n",
       "</table>\n",
       "</div>"
      ],
      "text/plain": [
       "                             DocumentId             DateAndTime PartName  \\\n",
       "0  e49ccee3-dc5b-4374-a333-fa819bc44cb7  2021-12-01 17:44:34+03   B 5001   \n",
       "1  f9772ccb-d747-4156-aa85-ac1b9d6e2152  2021-12-01 17:44:34+03   B 5001   \n",
       "\n",
       "  DocumentConfirmation                 MeasurementPlan              Order  \\\n",
       "0                    2  911 906 017 5 TP CAP59 --X ---  C 133 T21-49-1-19   \n",
       "1                    2  911 906 017 5 TP CAP59 --X ---  C 133 T21-49-1-19   \n",
       "\n",
       "      DrawingNo  \n",
       "0  911 9060 175  \n",
       "1  911 9060 175  "
      ]
     },
     "execution_count": 24,
     "metadata": {},
     "output_type": "execute_result"
    }
   ],
   "source": [
    "temp_doc.head(2)"
   ]
  },
  {
   "cell_type": "markdown",
   "id": "2fb5c6e7-798c-4e08-a6e7-9cd944d9a430",
   "metadata": {
    "tags": []
   },
   "source": [
    "## dimMeasurement Table"
   ]
  },
  {
   "cell_type": "code",
   "execution_count": 25,
   "id": "5daa415c-2ccf-40b6-9984-7e00ac553bd9",
   "metadata": {},
   "outputs": [],
   "source": [
    "temp_dim = dimInfo.copy()"
   ]
  },
  {
   "cell_type": "code",
   "execution_count": 26,
   "id": "01e000c6-2e86-4266-934a-9cfe1775e192",
   "metadata": {},
   "outputs": [
    {
     "data": {
      "text/html": [
       "<div>\n",
       "<style scoped>\n",
       "    .dataframe tbody tr th:only-of-type {\n",
       "        vertical-align: middle;\n",
       "    }\n",
       "\n",
       "    .dataframe tbody tr th {\n",
       "        vertical-align: top;\n",
       "    }\n",
       "\n",
       "    .dataframe thead th {\n",
       "        text-align: right;\n",
       "    }\n",
       "</style>\n",
       "<table border=\"1\" class=\"dataframe\">\n",
       "  <thead>\n",
       "    <tr style=\"text-align: right;\">\n",
       "      <th></th>\n",
       "      <th>Id</th>\n",
       "      <th>DocumentId</th>\n",
       "      <th>DimInfo</th>\n",
       "      <th>CreatedDate</th>\n",
       "      <th>UpdatedDate</th>\n",
       "    </tr>\n",
       "  </thead>\n",
       "  <tbody>\n",
       "    <tr>\n",
       "      <th>0</th>\n",
       "      <td>55d91a3d-f663-4a8a-8a2f-90cc327f25aa</td>\n",
       "      <td>e49ccee3-dc5b-4374-a333-fa819bc44cb7</td>\n",
       "      <td>17-Q 90 SALGI PROB GRI</td>\n",
       "      <td>2022-01-18 09:44:03.38012</td>\n",
       "      <td>2022-01-18 09:44:03.38012</td>\n",
       "    </tr>\n",
       "    <tr>\n",
       "      <th>1</th>\n",
       "      <td>5e75e754-a29d-49a2-841c-3eb8aa0493a9</td>\n",
       "      <td>e49ccee3-dc5b-4374-a333-fa819bc44cb7</td>\n",
       "      <td>22 ic duzlem SALGI GRI PROB</td>\n",
       "      <td>2022-01-18 09:44:03.38012</td>\n",
       "      <td>2022-01-18 09:44:03.38012</td>\n",
       "    </tr>\n",
       "  </tbody>\n",
       "</table>\n",
       "</div>"
      ],
      "text/plain": [
       "                                     Id                            DocumentId  \\\n",
       "0  55d91a3d-f663-4a8a-8a2f-90cc327f25aa  e49ccee3-dc5b-4374-a333-fa819bc44cb7   \n",
       "1  5e75e754-a29d-49a2-841c-3eb8aa0493a9  e49ccee3-dc5b-4374-a333-fa819bc44cb7   \n",
       "\n",
       "                       DimInfo                CreatedDate  \\\n",
       "0       17-Q 90 SALGI PROB GRI  2022-01-18 09:44:03.38012   \n",
       "1  22 ic duzlem SALGI GRI PROB  2022-01-18 09:44:03.38012   \n",
       "\n",
       "                 UpdatedDate  \n",
       "0  2022-01-18 09:44:03.38012  \n",
       "1  2022-01-18 09:44:03.38012  "
      ]
     },
     "execution_count": 26,
     "metadata": {},
     "output_type": "execute_result"
    }
   ],
   "source": [
    "temp_dim.head(2)"
   ]
  },
  {
   "cell_type": "code",
   "execution_count": 27,
   "id": "49458afd-618c-4fe3-ae3a-dee286ad1692",
   "metadata": {},
   "outputs": [],
   "source": [
    "#drop dublicated columns\n",
    "temp_dim = temp_dim.drop(columns=['UpdatedDate','CreatedDate'],axis=1)"
   ]
  },
  {
   "cell_type": "code",
   "execution_count": 28,
   "id": "26f22854-cfde-44a3-a4d6-7def396bff5e",
   "metadata": {},
   "outputs": [],
   "source": [
    "temp_dim.rename(columns={'Id':'DimId'\n",
    "                ,'DocumentId': 'Document_Id'},inplace=True)"
   ]
  },
  {
   "cell_type": "code",
   "execution_count": 29,
   "id": "e4ac7fb1-ea06-4253-b5eb-50df60cead90",
   "metadata": {},
   "outputs": [
    {
     "data": {
      "text/html": [
       "<div>\n",
       "<style scoped>\n",
       "    .dataframe tbody tr th:only-of-type {\n",
       "        vertical-align: middle;\n",
       "    }\n",
       "\n",
       "    .dataframe tbody tr th {\n",
       "        vertical-align: top;\n",
       "    }\n",
       "\n",
       "    .dataframe thead th {\n",
       "        text-align: right;\n",
       "    }\n",
       "</style>\n",
       "<table border=\"1\" class=\"dataframe\">\n",
       "  <thead>\n",
       "    <tr style=\"text-align: right;\">\n",
       "      <th></th>\n",
       "      <th>DimId</th>\n",
       "      <th>Document_Id</th>\n",
       "      <th>DimInfo</th>\n",
       "    </tr>\n",
       "  </thead>\n",
       "  <tbody>\n",
       "    <tr>\n",
       "      <th>0</th>\n",
       "      <td>55d91a3d-f663-4a8a-8a2f-90cc327f25aa</td>\n",
       "      <td>e49ccee3-dc5b-4374-a333-fa819bc44cb7</td>\n",
       "      <td>17-Q 90 SALGI PROB GRI</td>\n",
       "    </tr>\n",
       "    <tr>\n",
       "      <th>1</th>\n",
       "      <td>5e75e754-a29d-49a2-841c-3eb8aa0493a9</td>\n",
       "      <td>e49ccee3-dc5b-4374-a333-fa819bc44cb7</td>\n",
       "      <td>22 ic duzlem SALGI GRI PROB</td>\n",
       "    </tr>\n",
       "  </tbody>\n",
       "</table>\n",
       "</div>"
      ],
      "text/plain": [
       "                                  DimId                           Document_Id  \\\n",
       "0  55d91a3d-f663-4a8a-8a2f-90cc327f25aa  e49ccee3-dc5b-4374-a333-fa819bc44cb7   \n",
       "1  5e75e754-a29d-49a2-841c-3eb8aa0493a9  e49ccee3-dc5b-4374-a333-fa819bc44cb7   \n",
       "\n",
       "                       DimInfo  \n",
       "0       17-Q 90 SALGI PROB GRI  \n",
       "1  22 ic duzlem SALGI GRI PROB  "
      ]
     },
     "execution_count": 29,
     "metadata": {},
     "output_type": "execute_result"
    }
   ],
   "source": [
    "temp_dim.head(2)"
   ]
  },
  {
   "cell_type": "markdown",
   "id": "c2a34cc1-cd89-4579-921f-6459f008df15",
   "metadata": {
    "tags": []
   },
   "source": [
    "## rows Table"
   ]
  },
  {
   "cell_type": "code",
   "execution_count": 30,
   "id": "6d2f0da4-c3de-4574-9274-a1763ae2bef1",
   "metadata": {},
   "outputs": [],
   "source": [
    "temp_row = rows.copy()"
   ]
  },
  {
   "cell_type": "code",
   "execution_count": 31,
   "id": "2b1489f4-1d87-4a38-be9c-19f87aa1b8ea",
   "metadata": {},
   "outputs": [
    {
     "data": {
      "text/html": [
       "<div>\n",
       "<style scoped>\n",
       "    .dataframe tbody tr th:only-of-type {\n",
       "        vertical-align: middle;\n",
       "    }\n",
       "\n",
       "    .dataframe tbody tr th {\n",
       "        vertical-align: top;\n",
       "    }\n",
       "\n",
       "    .dataframe thead th {\n",
       "        text-align: right;\n",
       "    }\n",
       "</style>\n",
       "<table border=\"1\" class=\"dataframe\">\n",
       "  <thead>\n",
       "    <tr style=\"text-align: right;\">\n",
       "      <th></th>\n",
       "      <th>Id</th>\n",
       "      <th>DimMeasurementId</th>\n",
       "      <th>Axis</th>\n",
       "      <th>Measurement</th>\n",
       "      <th>Nominal</th>\n",
       "      <th>PositiveTolerance</th>\n",
       "      <th>NegativeTolerance</th>\n",
       "      <th>Bonus</th>\n",
       "      <th>Deviation</th>\n",
       "      <th>OutTolerance</th>\n",
       "      <th>...</th>\n",
       "      <th>NatUpperTolId</th>\n",
       "      <th>NatLowerTolId</th>\n",
       "      <th>DecimalPlaces</th>\n",
       "      <th>FeaturePosX</th>\n",
       "      <th>FeaturePosY</th>\n",
       "      <th>FeaturePosZ</th>\n",
       "      <th>Unit</th>\n",
       "      <th>Confirmation</th>\n",
       "      <th>CreatedDate</th>\n",
       "      <th>UpdatedDate</th>\n",
       "    </tr>\n",
       "  </thead>\n",
       "  <tbody>\n",
       "    <tr>\n",
       "      <th>0</th>\n",
       "      <td>153f71ce-1716-4d44-b7e0-b21e614b4594</td>\n",
       "      <td>fb59d7d6-e70c-4e3d-aee7-1946a3bd315f</td>\n",
       "      <td>NaN</td>\n",
       "      <td>0.060900</td>\n",
       "      <td>0.0</td>\n",
       "      <td>0.050</td>\n",
       "      <td>0.0</td>\n",
       "      <td>NaN</td>\n",
       "      <td>0.060900</td>\n",
       "      <td>0.010900</td>\n",
       "      <td>...</td>\n",
       "      <td>NaN</td>\n",
       "      <td>NaN</td>\n",
       "      <td>NaN</td>\n",
       "      <td>NaN</td>\n",
       "      <td>NaN</td>\n",
       "      <td>NaN</td>\n",
       "      <td>NaN</td>\n",
       "      <td>2</td>\n",
       "      <td>2022-01-18 09:44:03.38012</td>\n",
       "      <td>2022-01-18 09:44:03.38012</td>\n",
       "    </tr>\n",
       "    <tr>\n",
       "      <th>1</th>\n",
       "      <td>2d27557f-ded9-4933-8282-e7b4c62d000f</td>\n",
       "      <td>55d91a3d-f663-4a8a-8a2f-90cc327f25aa</td>\n",
       "      <td>NaN</td>\n",
       "      <td>0.015115</td>\n",
       "      <td>0.0</td>\n",
       "      <td>0.015</td>\n",
       "      <td>0.0</td>\n",
       "      <td>NaN</td>\n",
       "      <td>0.015115</td>\n",
       "      <td>0.000115</td>\n",
       "      <td>...</td>\n",
       "      <td>NaN</td>\n",
       "      <td>NaN</td>\n",
       "      <td>NaN</td>\n",
       "      <td>NaN</td>\n",
       "      <td>NaN</td>\n",
       "      <td>NaN</td>\n",
       "      <td>NaN</td>\n",
       "      <td>1</td>\n",
       "      <td>2022-01-18 09:44:03.38012</td>\n",
       "      <td>2022-01-18 09:44:03.38012</td>\n",
       "    </tr>\n",
       "  </tbody>\n",
       "</table>\n",
       "<p>2 rows × 43 columns</p>\n",
       "</div>"
      ],
      "text/plain": [
       "                                     Id                      DimMeasurementId  \\\n",
       "0  153f71ce-1716-4d44-b7e0-b21e614b4594  fb59d7d6-e70c-4e3d-aee7-1946a3bd315f   \n",
       "1  2d27557f-ded9-4933-8282-e7b4c62d000f  55d91a3d-f663-4a8a-8a2f-90cc327f25aa   \n",
       "\n",
       "   Axis  Measurement  Nominal  PositiveTolerance  NegativeTolerance  Bonus  \\\n",
       "0   NaN     0.060900      0.0              0.050                0.0    NaN   \n",
       "1   NaN     0.015115      0.0              0.015                0.0    NaN   \n",
       "\n",
       "   Deviation  OutTolerance  ... NatUpperTolId  NatLowerTolId  DecimalPlaces  \\\n",
       "0   0.060900      0.010900  ...           NaN            NaN            NaN   \n",
       "1   0.015115      0.000115  ...           NaN            NaN            NaN   \n",
       "\n",
       "   FeaturePosX  FeaturePosY  FeaturePosZ  Unit  Confirmation  \\\n",
       "0          NaN          NaN          NaN   NaN             2   \n",
       "1          NaN          NaN          NaN   NaN             1   \n",
       "\n",
       "                 CreatedDate                UpdatedDate  \n",
       "0  2022-01-18 09:44:03.38012  2022-01-18 09:44:03.38012  \n",
       "1  2022-01-18 09:44:03.38012  2022-01-18 09:44:03.38012  \n",
       "\n",
       "[2 rows x 43 columns]"
      ]
     },
     "execution_count": 31,
     "metadata": {},
     "output_type": "execute_result"
    }
   ],
   "source": [
    "temp_row.head(2)"
   ]
  },
  {
   "cell_type": "code",
   "execution_count": 32,
   "id": "fa980a5c-2ac0-41c9-86f6-938ede9c1dad",
   "metadata": {},
   "outputs": [],
   "source": [
    "#dolu olanlar->Id-DimMeasurementId-Measurement-Nominal-PositiveTolerance-NegativeTolerance-Deviation-OutTolerance-OutToleranceBar-Confirmation-CreatedDate-UpdatedDate"
   ]
  },
  {
   "cell_type": "code",
   "execution_count": 33,
   "id": "81e9b5b6-db1a-40a4-86e2-1d79cb5b0652",
   "metadata": {},
   "outputs": [],
   "source": [
    "#drop null columns\n",
    "temp_row =temp_row.dropna(how='all',axis=1)"
   ]
  },
  {
   "cell_type": "code",
   "execution_count": 34,
   "id": "5ef20cab-57cb-4ad4-b9d1-18a1a33c160d",
   "metadata": {},
   "outputs": [
    {
     "data": {
      "text/html": [
       "<div>\n",
       "<style scoped>\n",
       "    .dataframe tbody tr th:only-of-type {\n",
       "        vertical-align: middle;\n",
       "    }\n",
       "\n",
       "    .dataframe tbody tr th {\n",
       "        vertical-align: top;\n",
       "    }\n",
       "\n",
       "    .dataframe thead th {\n",
       "        text-align: right;\n",
       "    }\n",
       "</style>\n",
       "<table border=\"1\" class=\"dataframe\">\n",
       "  <thead>\n",
       "    <tr style=\"text-align: right;\">\n",
       "      <th></th>\n",
       "      <th>Id</th>\n",
       "      <th>DimMeasurementId</th>\n",
       "      <th>Measurement</th>\n",
       "      <th>Nominal</th>\n",
       "      <th>PositiveTolerance</th>\n",
       "      <th>NegativeTolerance</th>\n",
       "      <th>Deviation</th>\n",
       "      <th>OutTolerance</th>\n",
       "      <th>OutToleranceBar</th>\n",
       "      <th>Confirmation</th>\n",
       "      <th>CreatedDate</th>\n",
       "      <th>UpdatedDate</th>\n",
       "    </tr>\n",
       "  </thead>\n",
       "  <tbody>\n",
       "    <tr>\n",
       "      <th>0</th>\n",
       "      <td>153f71ce-1716-4d44-b7e0-b21e614b4594</td>\n",
       "      <td>fb59d7d6-e70c-4e3d-aee7-1946a3bd315f</td>\n",
       "      <td>0.060900</td>\n",
       "      <td>0.0</td>\n",
       "      <td>0.050</td>\n",
       "      <td>0.0</td>\n",
       "      <td>0.060900</td>\n",
       "      <td>0.010900</td>\n",
       "      <td>----&gt;</td>\n",
       "      <td>2</td>\n",
       "      <td>2022-01-18 09:44:03.38012</td>\n",
       "      <td>2022-01-18 09:44:03.38012</td>\n",
       "    </tr>\n",
       "    <tr>\n",
       "      <th>1</th>\n",
       "      <td>2d27557f-ded9-4933-8282-e7b4c62d000f</td>\n",
       "      <td>55d91a3d-f663-4a8a-8a2f-90cc327f25aa</td>\n",
       "      <td>0.015115</td>\n",
       "      <td>0.0</td>\n",
       "      <td>0.015</td>\n",
       "      <td>0.0</td>\n",
       "      <td>0.015115</td>\n",
       "      <td>0.000115</td>\n",
       "      <td>----&gt;</td>\n",
       "      <td>1</td>\n",
       "      <td>2022-01-18 09:44:03.38012</td>\n",
       "      <td>2022-01-18 09:44:03.38012</td>\n",
       "    </tr>\n",
       "  </tbody>\n",
       "</table>\n",
       "</div>"
      ],
      "text/plain": [
       "                                     Id                      DimMeasurementId  \\\n",
       "0  153f71ce-1716-4d44-b7e0-b21e614b4594  fb59d7d6-e70c-4e3d-aee7-1946a3bd315f   \n",
       "1  2d27557f-ded9-4933-8282-e7b4c62d000f  55d91a3d-f663-4a8a-8a2f-90cc327f25aa   \n",
       "\n",
       "   Measurement  Nominal  PositiveTolerance  NegativeTolerance  Deviation  \\\n",
       "0     0.060900      0.0              0.050                0.0   0.060900   \n",
       "1     0.015115      0.0              0.015                0.0   0.015115   \n",
       "\n",
       "   OutTolerance OutToleranceBar Confirmation                CreatedDate  \\\n",
       "0      0.010900           ---->            2  2022-01-18 09:44:03.38012   \n",
       "1      0.000115           ---->            1  2022-01-18 09:44:03.38012   \n",
       "\n",
       "                 UpdatedDate  \n",
       "0  2022-01-18 09:44:03.38012  \n",
       "1  2022-01-18 09:44:03.38012  "
      ]
     },
     "execution_count": 34,
     "metadata": {},
     "output_type": "execute_result"
    }
   ],
   "source": [
    "temp_row.head(2)"
   ]
  },
  {
   "cell_type": "code",
   "execution_count": 35,
   "id": "35ad9e7d-e4da-4d55-be7b-d7b99461a5ce",
   "metadata": {},
   "outputs": [],
   "source": [
    "#drop unnecessary columns\n",
    "temp_row =temp_row.drop(columns=['OutToleranceBar','CreatedDate','UpdatedDate'],axis=1)"
   ]
  },
  {
   "cell_type": "code",
   "execution_count": 36,
   "id": "4e566f40-a1dd-48bb-9667-00da95aa5854",
   "metadata": {},
   "outputs": [],
   "source": [
    "temp_row.rename(columns={'Id':'RowId'\n",
    "                ,'Confirmation': 'RowConfirmation'},inplace=True)"
   ]
  },
  {
   "cell_type": "code",
   "execution_count": 37,
   "id": "e098a430-f0eb-407b-8627-4836aa6731dc",
   "metadata": {},
   "outputs": [
    {
     "data": {
      "text/html": [
       "<div>\n",
       "<style scoped>\n",
       "    .dataframe tbody tr th:only-of-type {\n",
       "        vertical-align: middle;\n",
       "    }\n",
       "\n",
       "    .dataframe tbody tr th {\n",
       "        vertical-align: top;\n",
       "    }\n",
       "\n",
       "    .dataframe thead th {\n",
       "        text-align: right;\n",
       "    }\n",
       "</style>\n",
       "<table border=\"1\" class=\"dataframe\">\n",
       "  <thead>\n",
       "    <tr style=\"text-align: right;\">\n",
       "      <th></th>\n",
       "      <th>RowId</th>\n",
       "      <th>DimMeasurementId</th>\n",
       "      <th>Measurement</th>\n",
       "      <th>Nominal</th>\n",
       "      <th>PositiveTolerance</th>\n",
       "      <th>NegativeTolerance</th>\n",
       "      <th>Deviation</th>\n",
       "      <th>OutTolerance</th>\n",
       "      <th>RowConfirmation</th>\n",
       "    </tr>\n",
       "  </thead>\n",
       "  <tbody>\n",
       "    <tr>\n",
       "      <th>0</th>\n",
       "      <td>153f71ce-1716-4d44-b7e0-b21e614b4594</td>\n",
       "      <td>fb59d7d6-e70c-4e3d-aee7-1946a3bd315f</td>\n",
       "      <td>0.060900</td>\n",
       "      <td>0.0</td>\n",
       "      <td>0.050</td>\n",
       "      <td>0.0</td>\n",
       "      <td>0.060900</td>\n",
       "      <td>0.010900</td>\n",
       "      <td>2</td>\n",
       "    </tr>\n",
       "    <tr>\n",
       "      <th>1</th>\n",
       "      <td>2d27557f-ded9-4933-8282-e7b4c62d000f</td>\n",
       "      <td>55d91a3d-f663-4a8a-8a2f-90cc327f25aa</td>\n",
       "      <td>0.015115</td>\n",
       "      <td>0.0</td>\n",
       "      <td>0.015</td>\n",
       "      <td>0.0</td>\n",
       "      <td>0.015115</td>\n",
       "      <td>0.000115</td>\n",
       "      <td>1</td>\n",
       "    </tr>\n",
       "  </tbody>\n",
       "</table>\n",
       "</div>"
      ],
      "text/plain": [
       "                                  RowId                      DimMeasurementId  \\\n",
       "0  153f71ce-1716-4d44-b7e0-b21e614b4594  fb59d7d6-e70c-4e3d-aee7-1946a3bd315f   \n",
       "1  2d27557f-ded9-4933-8282-e7b4c62d000f  55d91a3d-f663-4a8a-8a2f-90cc327f25aa   \n",
       "\n",
       "   Measurement  Nominal  PositiveTolerance  NegativeTolerance  Deviation  \\\n",
       "0     0.060900      0.0              0.050                0.0   0.060900   \n",
       "1     0.015115      0.0              0.015                0.0   0.015115   \n",
       "\n",
       "   OutTolerance RowConfirmation  \n",
       "0      0.010900               2  \n",
       "1      0.000115               1  "
      ]
     },
     "execution_count": 37,
     "metadata": {},
     "output_type": "execute_result"
    }
   ],
   "source": [
    "temp_row.head(2)"
   ]
  },
  {
   "cell_type": "markdown",
   "id": "37c27082-ded7-4388-9b2c-39cd688a542e",
   "metadata": {
    "tags": []
   },
   "source": [
    "# Merge Tables"
   ]
  },
  {
   "cell_type": "code",
   "execution_count": 38,
   "id": "ed14f445-3c41-4be1-912c-50287bb17d00",
   "metadata": {},
   "outputs": [],
   "source": [
    "merged_df = pd.merge(left=temp_doc, right=temp_dim, left_on='DocumentId', right_on='Document_Id')"
   ]
  },
  {
   "cell_type": "code",
   "execution_count": 39,
   "id": "33eb7947-5bc8-499a-b9e8-27eac0c24486",
   "metadata": {},
   "outputs": [],
   "source": [
    "merged_df = pd.merge(left=merged_df, right=temp_row, left_on='DimId', right_on='DimMeasurementId')"
   ]
  },
  {
   "cell_type": "code",
   "execution_count": 40,
   "id": "396a9ee9-00b1-4db1-a7a4-ac2861e19b16",
   "metadata": {},
   "outputs": [
    {
     "data": {
      "text/html": [
       "<div>\n",
       "<style scoped>\n",
       "    .dataframe tbody tr th:only-of-type {\n",
       "        vertical-align: middle;\n",
       "    }\n",
       "\n",
       "    .dataframe tbody tr th {\n",
       "        vertical-align: top;\n",
       "    }\n",
       "\n",
       "    .dataframe thead th {\n",
       "        text-align: right;\n",
       "    }\n",
       "</style>\n",
       "<table border=\"1\" class=\"dataframe\">\n",
       "  <thead>\n",
       "    <tr style=\"text-align: right;\">\n",
       "      <th></th>\n",
       "      <th>DocumentId</th>\n",
       "      <th>DateAndTime</th>\n",
       "      <th>PartName</th>\n",
       "      <th>DocumentConfirmation</th>\n",
       "      <th>MeasurementPlan</th>\n",
       "      <th>Order</th>\n",
       "      <th>DrawingNo</th>\n",
       "      <th>DimId</th>\n",
       "      <th>Document_Id</th>\n",
       "      <th>DimInfo</th>\n",
       "      <th>RowId</th>\n",
       "      <th>DimMeasurementId</th>\n",
       "      <th>Measurement</th>\n",
       "      <th>Nominal</th>\n",
       "      <th>PositiveTolerance</th>\n",
       "      <th>NegativeTolerance</th>\n",
       "      <th>Deviation</th>\n",
       "      <th>OutTolerance</th>\n",
       "      <th>RowConfirmation</th>\n",
       "    </tr>\n",
       "  </thead>\n",
       "  <tbody>\n",
       "    <tr>\n",
       "      <th>0</th>\n",
       "      <td>e49ccee3-dc5b-4374-a333-fa819bc44cb7</td>\n",
       "      <td>2021-12-01 17:44:34+03</td>\n",
       "      <td>B 5001</td>\n",
       "      <td>2</td>\n",
       "      <td>911 906 017 5 TP CAP59 --X ---</td>\n",
       "      <td>C 133 T21-49-1-19</td>\n",
       "      <td>911 9060 175</td>\n",
       "      <td>55d91a3d-f663-4a8a-8a2f-90cc327f25aa</td>\n",
       "      <td>e49ccee3-dc5b-4374-a333-fa819bc44cb7</td>\n",
       "      <td>17-Q 90 SALGI PROB GRI</td>\n",
       "      <td>2d27557f-ded9-4933-8282-e7b4c62d000f</td>\n",
       "      <td>55d91a3d-f663-4a8a-8a2f-90cc327f25aa</td>\n",
       "      <td>0.015115</td>\n",
       "      <td>0.0</td>\n",
       "      <td>0.015</td>\n",
       "      <td>0.0</td>\n",
       "      <td>0.015115</td>\n",
       "      <td>0.000115</td>\n",
       "      <td>1</td>\n",
       "    </tr>\n",
       "  </tbody>\n",
       "</table>\n",
       "</div>"
      ],
      "text/plain": [
       "                             DocumentId             DateAndTime PartName  \\\n",
       "0  e49ccee3-dc5b-4374-a333-fa819bc44cb7  2021-12-01 17:44:34+03   B 5001   \n",
       "\n",
       "  DocumentConfirmation                 MeasurementPlan              Order  \\\n",
       "0                    2  911 906 017 5 TP CAP59 --X ---  C 133 T21-49-1-19   \n",
       "\n",
       "      DrawingNo                                 DimId  \\\n",
       "0  911 9060 175  55d91a3d-f663-4a8a-8a2f-90cc327f25aa   \n",
       "\n",
       "                            Document_Id                 DimInfo  \\\n",
       "0  e49ccee3-dc5b-4374-a333-fa819bc44cb7  17-Q 90 SALGI PROB GRI   \n",
       "\n",
       "                                  RowId                      DimMeasurementId  \\\n",
       "0  2d27557f-ded9-4933-8282-e7b4c62d000f  55d91a3d-f663-4a8a-8a2f-90cc327f25aa   \n",
       "\n",
       "   Measurement  Nominal  PositiveTolerance  NegativeTolerance  Deviation  \\\n",
       "0     0.015115      0.0              0.015                0.0   0.015115   \n",
       "\n",
       "   OutTolerance RowConfirmation  \n",
       "0      0.000115               1  "
      ]
     },
     "execution_count": 40,
     "metadata": {},
     "output_type": "execute_result"
    }
   ],
   "source": [
    "merged_df.head(1)"
   ]
  },
  {
   "cell_type": "code",
   "execution_count": 41,
   "id": "3e626989-77ae-4ff3-8609-b323f69c6413",
   "metadata": {},
   "outputs": [],
   "source": [
    "merged_df.drop(columns=['Document_Id','DimMeasurementId'],inplace=True)"
   ]
  },
  {
   "cell_type": "code",
   "execution_count": 42,
   "id": "0b5fb808-6cc1-4bfd-a21a-9c432d1fc527",
   "metadata": {},
   "outputs": [
    {
     "data": {
      "text/html": [
       "<div>\n",
       "<style scoped>\n",
       "    .dataframe tbody tr th:only-of-type {\n",
       "        vertical-align: middle;\n",
       "    }\n",
       "\n",
       "    .dataframe tbody tr th {\n",
       "        vertical-align: top;\n",
       "    }\n",
       "\n",
       "    .dataframe thead th {\n",
       "        text-align: right;\n",
       "    }\n",
       "</style>\n",
       "<table border=\"1\" class=\"dataframe\">\n",
       "  <thead>\n",
       "    <tr style=\"text-align: right;\">\n",
       "      <th></th>\n",
       "      <th>DocumentId</th>\n",
       "      <th>DateAndTime</th>\n",
       "      <th>PartName</th>\n",
       "      <th>DocumentConfirmation</th>\n",
       "      <th>MeasurementPlan</th>\n",
       "      <th>Order</th>\n",
       "      <th>DrawingNo</th>\n",
       "      <th>DimId</th>\n",
       "      <th>DimInfo</th>\n",
       "      <th>RowId</th>\n",
       "      <th>Measurement</th>\n",
       "      <th>Nominal</th>\n",
       "      <th>PositiveTolerance</th>\n",
       "      <th>NegativeTolerance</th>\n",
       "      <th>Deviation</th>\n",
       "      <th>OutTolerance</th>\n",
       "      <th>RowConfirmation</th>\n",
       "    </tr>\n",
       "  </thead>\n",
       "  <tbody>\n",
       "    <tr>\n",
       "      <th>0</th>\n",
       "      <td>e49ccee3-dc5b-4374-a333-fa819bc44cb7</td>\n",
       "      <td>2021-12-01 17:44:34+03</td>\n",
       "      <td>B 5001</td>\n",
       "      <td>2</td>\n",
       "      <td>911 906 017 5 TP CAP59 --X ---</td>\n",
       "      <td>C 133 T21-49-1-19</td>\n",
       "      <td>911 9060 175</td>\n",
       "      <td>55d91a3d-f663-4a8a-8a2f-90cc327f25aa</td>\n",
       "      <td>17-Q 90 SALGI PROB GRI</td>\n",
       "      <td>2d27557f-ded9-4933-8282-e7b4c62d000f</td>\n",
       "      <td>0.015115</td>\n",
       "      <td>0.0</td>\n",
       "      <td>0.015</td>\n",
       "      <td>0.0</td>\n",
       "      <td>0.015115</td>\n",
       "      <td>0.000115</td>\n",
       "      <td>1</td>\n",
       "    </tr>\n",
       "  </tbody>\n",
       "</table>\n",
       "</div>"
      ],
      "text/plain": [
       "                             DocumentId             DateAndTime PartName  \\\n",
       "0  e49ccee3-dc5b-4374-a333-fa819bc44cb7  2021-12-01 17:44:34+03   B 5001   \n",
       "\n",
       "  DocumentConfirmation                 MeasurementPlan              Order  \\\n",
       "0                    2  911 906 017 5 TP CAP59 --X ---  C 133 T21-49-1-19   \n",
       "\n",
       "      DrawingNo                                 DimId                 DimInfo  \\\n",
       "0  911 9060 175  55d91a3d-f663-4a8a-8a2f-90cc327f25aa  17-Q 90 SALGI PROB GRI   \n",
       "\n",
       "                                  RowId  Measurement  Nominal  \\\n",
       "0  2d27557f-ded9-4933-8282-e7b4c62d000f     0.015115      0.0   \n",
       "\n",
       "   PositiveTolerance  NegativeTolerance  Deviation  OutTolerance  \\\n",
       "0              0.015                0.0   0.015115      0.000115   \n",
       "\n",
       "  RowConfirmation  \n",
       "0               1  "
      ]
     },
     "execution_count": 42,
     "metadata": {},
     "output_type": "execute_result"
    }
   ],
   "source": [
    "merged_df.head(1)"
   ]
  },
  {
   "cell_type": "code",
   "execution_count": 43,
   "id": "d3ab7c00-d9cb-4946-92e7-124673ddf1c1",
   "metadata": {},
   "outputs": [],
   "source": [
    "merged_df.to_csv('Merged.csv')"
   ]
  },
  {
   "cell_type": "code",
   "execution_count": null,
   "id": "da2ec1fd-2143-4d00-8c21-2e318ccc6045",
   "metadata": {},
   "outputs": [],
   "source": []
  }
 ],
 "metadata": {
  "kernelspec": {
   "display_name": "Python 3 (ipykernel)",
   "language": "python",
   "name": "python3"
  },
  "language_info": {
   "codemirror_mode": {
    "name": "ipython",
    "version": 3
   },
   "file_extension": ".py",
   "mimetype": "text/x-python",
   "name": "python",
   "nbconvert_exporter": "python",
   "pygments_lexer": "ipython3",
   "version": "3.9.7"
  }
 },
 "nbformat": 4,
 "nbformat_minor": 5
}
